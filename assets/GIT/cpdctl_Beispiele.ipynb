{
 "cells": [
  {
   "cell_type": "markdown",
   "id": "opponent-burst",
   "metadata": {
    "id": "f108ae0f-5f86-4570-83f4-5b27a3205f9a"
   },
   "source": [
    "# Benutzung von cpdctl aus einem Python Notebook"
   ]
  },
  {
   "cell_type": "markdown",
   "id": "alike-capital",
   "metadata": {
    "id": "85ae4711-e339-4b44-9092-20e2e952dd18"
   },
   "source": [
    "## 1. Schritt: Python Pakete laden"
   ]
  },
  {
   "cell_type": "code",
   "execution_count": 32,
   "id": "bridal-mexico",
   "metadata": {
    "id": "b967d6a2-ad77-4e8f-af1b-98a2aa202658",
    "tags": []
   },
   "outputs": [],
   "source": [
    "import os\n",
    "CWD = os.getcwd()\n",
    "PATH = os.environ['PATH']"
   ]
  },
  {
   "cell_type": "code",
   "execution_count": 33,
   "id": "negative-driver",
   "metadata": {
    "id": "b91c9f62-f510-4d61-9e33-fd6fe48e7200",
    "tags": []
   },
   "outputs": [
    {
     "name": "stdout",
     "output_type": "stream",
     "text": [
      "env: PATH=/userfs/assets/GIT:/userfs/assets/GIT:/userfs/assets/GIT:/userfs/assets/GIT:/opt/conda/envs/Python-3.8-main/bin:/opt/conda/condabin:/opt/conda/bin:/usr/bin:/opt/ibm/dsdriver/bin\n"
     ]
    }
   ],
   "source": [
    "%env PATH={CWD}:{PATH}"
   ]
  },
  {
   "cell_type": "code",
   "execution_count": 34,
   "id": "desperate-transport",
   "metadata": {
    "id": "3b5e0ddf-8361-4aec-9169-8d71f3c0fb70",
    "tags": []
   },
   "outputs": [
    {
     "name": "stdout",
     "output_type": "stream",
     "text": [
      "\u001b[1mName\u001b[0m                          \u001b[1mProfile\u001b[0m                       \u001b[1mUser\u001b[0m                       \u001b[1mCurrent\u001b[0m   \n",
      "\u001b[36;1minClusterEnvironmentContext\u001b[0m   inClusterEnvironmentProfile   inClusterEnvironmentUser   *   \n"
     ]
    }
   ],
   "source": [
    "# Context anzeigen\n",
    "# hier: in Cluster in WatsonStudio\n",
    "! cpdctl config context list"
   ]
  },
  {
   "cell_type": "code",
   "execution_count": null,
   "id": "angry-jonathan",
   "metadata": {
    "id": "6f2f9512-38f0-415b-b48a-ceb9f54e6956"
   },
   "outputs": [],
   "source": []
  },
  {
   "cell_type": "code",
   "execution_count": null,
   "id": "communist-overall",
   "metadata": {
    "id": "6745e16e-c8a9-4713-b23a-85adc4d2ca95"
   },
   "outputs": [],
   "source": []
  },
  {
   "cell_type": "code",
   "execution_count": null,
   "id": "boring-patch",
   "metadata": {
    "id": "4937f07c-9fb7-4323-a52e-32de436d781e"
   },
   "outputs": [],
   "source": []
  },
  {
   "cell_type": "code",
   "execution_count": null,
   "id": "federal-california",
   "metadata": {
    "id": "f6704835-7871-49a1-a901-bf600077ac4c"
   },
   "outputs": [],
   "source": []
  },
  {
   "cell_type": "code",
   "execution_count": 35,
   "id": "latter-large",
   "metadata": {
    "id": "bb2b2124-1ee2-4ade-8587-025675d148b1",
    "tags": []
   },
   "outputs": [
    {
     "name": "stdout",
     "output_type": "stream",
     "text": [
      "...\n",
      "\u001b[1mID\u001b[0m                                     \u001b[1mName\u001b[0m                \u001b[1mCreated\u001b[0m                    \u001b[1mDescription\u001b[0m                            \u001b[1mTags\u001b[0m   \n",
      "\u001b[36;1mf1be1dbd-fd40-4c0e-8c08-9d953b1d6750\u001b[0m   Credit Default      2021-10-28T13:18:16.552Z                                          []   \n",
      "\u001b[36;1m80565ecd-16f0-43b7-8441-2dbb81cff74d\u001b[0m   EVU_Churn           2021-11-18T18:33:50.980Z                                          []   \n",
      "\u001b[36;1ma1370058-bea2-4924-ad77-02fb91aacde5\u001b[0m   GIT Project         2022-02-17T20:34:48.139Z                                          []   \n",
      "\u001b[36;1m104ec1bc-8b2f-4db6-a2d6-4cd4b609eefb\u001b[0m   GitNeu              2022-02-08T12:53:32.140Z                                          []   \n",
      "\u001b[36;1m47e27641-465e-4c5c-b9d3-3ea27458ac62\u001b[0m   Baufinanzierung     2021-10-28T11:25:30.000Z                                          []   \n",
      "\u001b[36;1m1ba245b8-2f71-4d7d-966c-cd14a0975b4a\u001b[0m   Affinitätsanalyse   2021-10-29T14:01:33.059Z                                          []   \n",
      "\u001b[36;1m5ccef902-155e-4cff-a714-0ab3cd8a78a0\u001b[0m   CHURN_Analytics     2021-11-22T09:20:02.774Z   Analyseprojekt für Kundenabwanderung   []   \n"
     ]
    }
   ],
   "source": [
    "# Alle Projekte listen, in denen der CPD User Collaborateur ist.\n",
    "! cpdctl project list"
   ]
  },
  {
   "cell_type": "code",
   "execution_count": 36,
   "id": "powerful-genetics",
   "metadata": {
    "id": "0f2c3452-a15d-43b7-8b2c-59d94b7d3ec5",
    "tags": []
   },
   "outputs": [
    {
     "name": "stdout",
     "output_type": "stream",
     "text": [
      "...\n",
      "\u001b[1m\u001b[0m               \u001b[1m\u001b[0m   \n",
      "\u001b[36;1mID:\u001b[0m            104ec1bc-8b2f-4db6-a2d6-4cd4b609eefb   \n",
      "\u001b[36;1mName:\u001b[0m          GitNeu   \n",
      "\u001b[36;1mCreated:\u001b[0m       2022-02-08T12:53:32.140Z   \n",
      "\u001b[36;1mDescription:\u001b[0m      \n",
      "\u001b[36;1mTags:\u001b[0m          []   \n"
     ]
    }
   ],
   "source": [
    "# Metadata of the project\n",
    "! cpdctl project get --project-id {project_id} "
   ]
  },
  {
   "cell_type": "code",
   "execution_count": 37,
   "id": "isolated-house",
   "metadata": {
    "id": "8b7e7031-d56a-4550-a99f-0b9dd6929515",
    "tags": []
   },
   "outputs": [],
   "source": [
    "# Default Project Id setzten\n",
    "project_id = '104ec1bc-8b2f-4db6-a2d6-4cd4b609eefb'"
   ]
  },
  {
   "cell_type": "code",
   "execution_count": 38,
   "id": "diverse-montreal",
   "metadata": {
    "id": "820efb03-f3ec-459f-b6e2-8d28248590a5",
    "tags": []
   },
   "outputs": [
    {
     "name": "stdout",
     "output_type": "stream",
     "text": [
      "...\n",
      "\u001b[1mID\u001b[0m                                     \u001b[1mName\u001b[0m              \u001b[1mCreated\u001b[0m                    \u001b[1mDescription\u001b[0m   \u001b[1mState\u001b[0m    \u001b[1mTags\u001b[0m   \n",
      "\u001b[36;1m68d65b57-9da2-4e24-93be-87f2eb2f2140\u001b[0m   Credit Default    2021-10-28T22:04:01.776Z                 active   []   \n",
      "\u001b[36;1m8a39af86-076d-47f3-a9a5-0927361cd430\u001b[0m   Baufinanzierung   2021-10-29T12:45:35.851Z                 active   []   \n",
      "\u001b[36;1m30093262-7220-496f-997a-096be73471cf\u001b[0m   Churn_Analyse     2021-11-22T12:14:12.660Z                 active   []   \n",
      "\u001b[36;1mf2124828-0125-45e8-8dda-e8b8ad142fb6\u001b[0m   Test              2022-02-17T20:51:38.662Z                 active   []   \n"
     ]
    }
   ],
   "source": [
    "# Alle Spaces listen, in denen der CPD User Collaborateur ist\n",
    "! cpdctl space list"
   ]
  },
  {
   "cell_type": "code",
   "execution_count": 39,
   "id": "modular-gossip",
   "metadata": {
    "id": "8b3de733-f8fa-4811-8cf0-f5719d9f4011",
    "tags": []
   },
   "outputs": [],
   "source": [
    "# Default Space ID setzen\n",
    "space_id = 'f2124828-0125-45e8-8dda-e8b8ad142fb6'"
   ]
  },
  {
   "cell_type": "code",
   "execution_count": 40,
   "id": "peripheral-savannah",
   "metadata": {
    "id": "6f070ca6-8ffb-4ae5-a7c9-8bae101e1a62",
    "tags": []
   },
   "outputs": [
    {
     "name": "stdout",
     "output_type": "stream",
     "text": [
      "...\n",
      "\u001b[1mID\u001b[0m           \u001b[1mType\u001b[0m   \u001b[1mRole\u001b[0m    \u001b[1mState\u001b[0m   \n",
      "\u001b[36;1m1000331005\u001b[0m   user   admin   active   \n"
     ]
    }
   ],
   "source": [
    "! cpdctl space member list --space-id {space_id} "
   ]
  },
  {
   "cell_type": "code",
   "execution_count": 41,
   "id": "broken-harris",
   "metadata": {
    "id": "ef30c520-382d-408e-a5ed-4eaf9b25a9b2",
    "tags": []
   },
   "outputs": [
    {
     "name": "stdout",
     "output_type": "stream",
     "text": [
      "...\n",
      "\u001b[1mPath\u001b[0m                                                 \u001b[1mType\u001b[0m     \u001b[1mSize\u001b[0m     \u001b[1mEtag\u001b[0m                    \u001b[1mLast Modified\u001b[0m   \n",
      "\u001b[36;1m01_ModelIrisData.ipynb\u001b[0m                               file     73640    W/\"11fa8-17fbcdaab00\"   Thu, 24 Mar 2022 16:55:21 GMT   \n",
      "\u001b[36;1mchurn_notebook.ipynb\u001b[0m                                 file     175412   W/\"2ad34-17fbce053ae\"   Thu, 24 Mar 2022 17:01:32 GMT   \n",
      "\u001b[36;1mspace-export-418f2c43-806d-4abc-8aa0-e7096ea9850d…\u001b[0m   file     71562    W/\"1178a-17fbc192c37\"   Thu, 24 Mar 2022 13:24:00 GMT   \n",
      "\u001b[36;1mspace-export-7145ea9b-e8d6-4a50-9fa5-5887238bca79…\u001b[0m   file     71562    W/\"1178a-17fbc2a7fbd\"   Thu, 24 Mar 2022 13:42:56 GMT   \n",
      "\u001b[36;1m.METADATA\u001b[0m                                            folder   1        W/\"1-17fbc2a7770\"       Thu, 24 Mar 2022 13:42:54 GMT   \n",
      "\u001b[36;1mnotebook\u001b[0m                                             folder   1        W/\"1-17fbcde683f\"       Thu, 24 Mar 2022 16:59:26 GMT   \n",
      "\u001b[36;1mwml_model\u001b[0m                                            folder   1        W/\"1-17fbc192132\"       Thu, 24 Mar 2022 13:23:57 GMT   \n"
     ]
    }
   ],
   "source": [
    "# Alle Assets im Space listen\n",
    "! cpdctl asset file list --space-id {space_id}"
   ]
  },
  {
   "cell_type": "code",
   "execution_count": 28,
   "id": "patent-crawford",
   "metadata": {
    "id": "60110832-5827-4979-af99-1bd3e603ab28",
    "tags": []
   },
   "outputs": [],
   "source": [
    "# promote notebook to default space\n",
    "# Achtung: cpdctl kann mit Blanks im Namen vom Notebook nicht umgehen!!!!\n",
    "remote_file_path = \"01_ModelIrisData.ipynb\"\n",
    "local_file_path = \"01_ModelIrisData.ipynb\"\n",
    "file_name = \"01_ModelIrisData.ipynb\""
   ]
  },
  {
   "cell_type": "code",
   "execution_count": 29,
   "id": "academic-brick",
   "metadata": {
    "id": "d1be488b-d60d-4e53-a077-e508a5aece39",
    "tags": []
   },
   "outputs": [
    {
     "name": "stdout",
     "output_type": "stream",
     "text": [
      "...\n",
      "\u001b[32;1mOK\u001b[0m\n"
     ]
    }
   ],
   "source": [
    "! cpdctl asset file upload --path {remote_file_path} --file {local_file_path} --space-id {space_id}"
   ]
  },
  {
   "cell_type": "code",
   "execution_count": 42,
   "id": "aging-ancient",
   "metadata": {
    "id": "1cc588db-761a-4fba-9e35-d46ad8317790",
    "tags": []
   },
   "outputs": [
    {
     "name": "stdout",
     "output_type": "stream",
     "text": [
      "...\n",
      "\u001b[1mPath\u001b[0m                                                 \u001b[1mType\u001b[0m     \u001b[1mSize\u001b[0m     \u001b[1mEtag\u001b[0m                    \u001b[1mLast Modified\u001b[0m   \n",
      "\u001b[36;1m01_ModelIrisData.ipynb\u001b[0m                               file     73640    W/\"11fa8-17fbcdaab00\"   Thu, 24 Mar 2022 16:55:21 GMT   \n",
      "\u001b[36;1mchurn_notebook.ipynb\u001b[0m                                 file     175412   W/\"2ad34-17fbce053ae\"   Thu, 24 Mar 2022 17:01:32 GMT   \n",
      "\u001b[36;1mspace-export-418f2c43-806d-4abc-8aa0-e7096ea9850d…\u001b[0m   file     71562    W/\"1178a-17fbc192c37\"   Thu, 24 Mar 2022 13:24:00 GMT   \n",
      "\u001b[36;1mspace-export-7145ea9b-e8d6-4a50-9fa5-5887238bca79…\u001b[0m   file     71562    W/\"1178a-17fbc2a7fbd\"   Thu, 24 Mar 2022 13:42:56 GMT   \n",
      "\u001b[36;1m.METADATA\u001b[0m                                            folder   1        W/\"1-17fbc2a7770\"       Thu, 24 Mar 2022 13:42:54 GMT   \n",
      "\u001b[36;1mnotebook\u001b[0m                                             folder   1        W/\"1-17fbcde683f\"       Thu, 24 Mar 2022 16:59:26 GMT   \n",
      "\u001b[36;1mwml_model\u001b[0m                                            folder   1        W/\"1-17fbc192132\"       Thu, 24 Mar 2022 13:23:57 GMT   \n"
     ]
    }
   ],
   "source": [
    "# Alle Assets im Space listen\n",
    "! cpdctl asset file list --space-id {space_id}"
   ]
  },
  {
   "cell_type": "code",
   "execution_count": null,
   "id": "diverse-clone",
   "metadata": {
    "id": "c3e0cfbd-0fdf-46d1-9122-96d3a8088b1c"
   },
   "outputs": [],
   "source": []
  },
  {
   "cell_type": "code",
   "execution_count": null,
   "id": "early-priest",
   "metadata": {
    "id": "9c35d5e3-e8ee-4fd6-87e4-190f682425ec"
   },
   "outputs": [],
   "source": []
  },
  {
   "cell_type": "code",
   "execution_count": 1,
   "id": "descending-agreement",
   "metadata": {
    "id": "5fa48dbc-4775-431f-b00d-cfd97ed2a5b2",
    "tags": []
   },
   "outputs": [],
   "source": [
    "# Codepackage erstellen und promoten\n",
    "# create a zip file with the Notebook and the two helper libs"
   ]
  },
  {
   "cell_type": "code",
   "execution_count": 21,
   "id": "collaborative-answer",
   "metadata": {
    "id": "2dbe79a8-f206-4af5-9668-a7871174b83c",
    "tags": []
   },
   "outputs": [],
   "source": [
    "import zipfile"
   ]
  },
  {
   "cell_type": "code",
   "execution_count": 22,
   "id": "objective-professional",
   "metadata": {
    "id": "7694d3a9-4a80-474a-a43d-45543cc2a6ce",
    "tags": []
   },
   "outputs": [],
   "source": [
    "with zipfile.ZipFile('codePackage.zip', 'w') as myzip:\n",
    "    myzip.write('01_ModelIrisData.ipynb')"
   ]
  },
  {
   "cell_type": "code",
   "execution_count": 23,
   "id": "legitimate-fortune",
   "metadata": {
    "id": "69d486c9-d65a-400b-a95c-7cd428de5632",
    "tags": []
   },
   "outputs": [],
   "source": [
    "with zipfile.ZipFile('codePackage.zip', 'a') as myzip:\n",
    "    myzip.write('01_save_DataAsset.py')"
   ]
  },
  {
   "cell_type": "code",
   "execution_count": 24,
   "id": "integrated-billy",
   "metadata": {
    "id": "724309da-aca6-46fb-a82d-a7b7c376ef17",
    "tags": []
   },
   "outputs": [],
   "source": [
    "remote_file_path = \"/userfs/assets/codePackage.zip\"\n",
    "local_file_path = \"codePackage.zip\""
   ]
  },
  {
   "cell_type": "code",
   "execution_count": 25,
   "id": "important-withdrawal",
   "metadata": {
    "id": "c62b4bb7-36dc-400b-a389-17f6f03c341d",
    "tags": []
   },
   "outputs": [
    {
     "name": "stdout",
     "output_type": "stream",
     "text": [
      "...\n",
      "\u001b[32;1mOK\u001b[0m\n"
     ]
    }
   ],
   "source": [
    "! cpdctl asset file upload --path {remote_file_path} --file {local_file_path} --space-id {space_id}"
   ]
  },
  {
   "cell_type": "code",
   "execution_count": 26,
   "id": "preceding-avenue",
   "metadata": {
    "id": "a4899cd2-981a-4f20-b916-588e1e4a0623",
    "tags": []
   },
   "outputs": [],
   "source": [
    "os.environ[\"CPDCTL_ENABLE_CODE_PACKAGE\"] = \"true\""
   ]
  },
  {
   "cell_type": "code",
   "execution_count": 27,
   "id": "defensive-tutorial",
   "metadata": {
    "id": "832df285-fde6-4899-9e28-ed5e1b24855e",
    "tags": []
   },
   "outputs": [],
   "source": [
    "file_name = \"codePackage.zip\""
   ]
  },
  {
   "cell_type": "code",
   "execution_count": 28,
   "id": "parallel-uganda",
   "metadata": {
    "id": "d548f35a-c996-47a1-a365-eeb775cc6e86",
    "tags": []
   },
   "outputs": [
    {
     "name": "stdout",
     "output_type": "stream",
     "text": [
      "code package id: b8e177e4-ce06-444b-9d1e-8a84dc5b2e13\n"
     ]
    }
   ],
   "source": [
    "result = ! cpdctl code-package create --file-reference {remote_file_path} --name {file_name} --space-id {space_id} --output json -j \"metadata.asset_id\" --raw-output\n",
    "code_package_id = result.s\n",
    "print(\"code package id: {}\".format(code_package_id))"
   ]
  },
  {
   "cell_type": "code",
   "execution_count": 29,
   "id": "hidden-grill",
   "metadata": {
    "id": "51bc5544-0552-49b0-a24c-f16f5f98afa5",
    "tags": []
   },
   "outputs": [
    {
     "name": "stdout",
     "output_type": "stream",
     "text": [
      "...\n",
      "\u001b[1mPath\u001b[0m                                   \u001b[1mType\u001b[0m     \u001b[1mSize\u001b[0m    \u001b[1mEtag\u001b[0m                    \u001b[1mLast Modified\u001b[0m   \n",
      "\u001b[36;1m01_ModelIrisData.ipynb\u001b[0m                 file     73692   W/\"11fdc-17f306f5dec\"   Fri, 25 Feb 2022 10:31:19 GMT   \n",
      "\u001b[36;1muserfs\u001b[0m                                 folder   1       W/\"1-17f1c39db2f\"       Mon, 21 Feb 2022 12:20:28 GMT   \n",
      "\u001b[36;1mbaa9d726-2606-4fe2-8219-f2d9f8387e0d\u001b[0m   folder   1       W/\"1-17f307123c1\"       Fri, 25 Feb 2022 10:33:15 GMT   \n",
      "\u001b[36;1mdata_asset\u001b[0m                             folder   2       W/\"2-17f1c670f97\"       Mon, 21 Feb 2022 13:09:50 GMT   \n"
     ]
    }
   ],
   "source": [
    "! cpdctl asset file list --space-id {space_id}"
   ]
  },
  {
   "cell_type": "code",
   "execution_count": 16,
   "id": "natural-language",
   "metadata": {
    "id": "c008ce0a-5c2e-4e84-86c2-fe78de7be421",
    "tags": []
   },
   "outputs": [],
   "source": [
    "file_name1 =\"/userfs/assets/api_aufrufe.R\""
   ]
  },
  {
   "cell_type": "code",
   "execution_count": 18,
   "id": "severe-guard",
   "metadata": {
    "id": "49c682fd-4cbc-4e6f-b956-d30cdf096c5c",
    "tags": []
   },
   "outputs": [],
   "source": [
    "file_name2 = \"/userfs/assets/01_ModelIrisData.ipynb\""
   ]
  },
  {
   "cell_type": "code",
   "execution_count": 17,
   "id": "collectible-murder",
   "metadata": {
    "id": "31a426be-99ab-4ed8-b589-d64712f2f8c5",
    "tags": []
   },
   "outputs": [
    {
     "name": "stdout",
     "output_type": "stream",
     "text": [
      "...\n",
      "10.50 KiB / 10.31 KiB [---------------------------------------] 101.89% ? p/s 0s\n",
      "\u001b[1m\u001b[0m               \u001b[1m\u001b[0m   \n",
      "\u001b[36;1mID:\u001b[0m            4e5aadba-5fba-4da7-8d60-7ec200da340f   \n",
      "\u001b[36;1mName:\u001b[0m          api_aufrufe.R   \n",
      "\u001b[36;1mCreated:\u001b[0m       2022-02-25T10:33:14.000Z   \n",
      "\u001b[36;1mDescription:\u001b[0m      \n",
      "\u001b[36;1mType:\u001b[0m          script   \n",
      "\u001b[36;1mState:\u001b[0m         available   \n",
      "\u001b[36;1mTags:\u001b[0m          []   \n",
      "\u001b[36;1mSize:\u001b[0m          10557   \n",
      "\u001b[36;1mAttachments:\u001b[0m   \u001b[1mID\u001b[0m                                     \u001b[1mName\u001b[0m            \u001b[1mDescription\u001b[0m             \u001b[1mType\u001b[0m     \u001b[1mMime Type\u001b[0m      \n",
      "\u001b[36;1m\u001b[0m               \u001b[36;1m5107b717-be95-43dc-9976-6f232bd18d52\u001b[0m   api_aufrufe.R   attachment for script   script   text/plain; charset=utf-8      \n",
      "\u001b[36;1m\u001b[0m                  \n"
     ]
    }
   ],
   "source": [
    "# Asset in Space\n",
    "! cpdctl asset script create --file {file_name1} --space-id {space_id}"
   ]
  },
  {
   "cell_type": "code",
   "execution_count": 19,
   "id": "difficult-playback",
   "metadata": {
    "id": "9d41a265-2dbc-405b-a52f-d0cd0f170380",
    "tags": []
   },
   "outputs": [
    {
     "name": "stdout",
     "output_type": "stream",
     "text": [
      "...\n",
      "\u001b[31;1mFAILED\u001b[0m\n",
      "Unable to create script asset:\n",
      "This file type is not supported. It has to be either a python script (.py file) or a R script.\n",
      "\n"
     ]
    }
   ],
   "source": [
    "#  Asset in Space\n",
    "! cpdctl asset script create --file {file_name2} --space-id {space_id}"
   ]
  },
  {
   "cell_type": "code",
   "execution_count": 20,
   "id": "alternate-observation",
   "metadata": {
    "id": "bd9ed116-a695-46d4-bea1-b300657f7781",
    "tags": []
   },
   "outputs": [
    {
     "name": "stdout",
     "output_type": "stream",
     "text": [
      "...\n",
      "\u001b[1mPath\u001b[0m                                   \u001b[1mType\u001b[0m     \u001b[1mSize\u001b[0m    \u001b[1mEtag\u001b[0m                    \u001b[1mLast Modified\u001b[0m   \n",
      "\u001b[36;1m01_ModelIrisData.ipynb\u001b[0m                 file     73692   W/\"11fdc-17f306f5dec\"   Fri, 25 Feb 2022 10:31:19 GMT   \n",
      "\u001b[36;1mdata_asset\u001b[0m                             folder   2       W/\"2-17f1c670f97\"       Mon, 21 Feb 2022 13:09:50 GMT   \n",
      "\u001b[36;1muserfs\u001b[0m                                 folder   1       W/\"1-17f1c39db2f\"       Mon, 21 Feb 2022 12:20:28 GMT   \n",
      "\u001b[36;1mbaa9d726-2606-4fe2-8219-f2d9f8387e0d\u001b[0m   folder   1       W/\"1-17f307123c1\"       Fri, 25 Feb 2022 10:33:15 GMT   \n"
     ]
    }
   ],
   "source": [
    "! cpdctl asset file list --space-id {space_id}"
   ]
  },
  {
   "cell_type": "code",
   "execution_count": null,
   "id": "geological-spice",
   "metadata": {
    "id": "1c6b9b7b-f11b-43a4-af67-0882b33a7a31"
   },
   "outputs": [],
   "source": [
    "# Das Attachment fehlt! Die Asset ID wird nicht angezeigt."
   ]
  },
  {
   "cell_type": "code",
   "execution_count": 23,
   "id": "adjacent-bahrain",
   "metadata": {
    "id": "80730e54-f826-40b1-ba7e-1986908b07b0",
    "tags": []
   },
   "outputs": [],
   "source": [
    "remote_file_path = \"/userfs/assets/api_aufrufe.R\"\n",
    "local_file_path = \"api_aufrufe.R\""
   ]
  },
  {
   "cell_type": "code",
   "execution_count": 24,
   "id": "hearing-projector",
   "metadata": {
    "id": "b77faa95-4c53-4281-b387-ce1d10db70c8",
    "tags": []
   },
   "outputs": [
    {
     "name": "stdout",
     "output_type": "stream",
     "text": [
      "...\n",
      "\u001b[32;1mOK\u001b[0m\n"
     ]
    }
   ],
   "source": [
    "! cpdctl asset file upload --path {remote_file_path} --file {local_file_path} --space-id {space_id}"
   ]
  },
  {
   "cell_type": "code",
   "execution_count": 21,
   "id": "tropical-serial",
   "metadata": {
    "id": "c7349734-7508-4124-94a2-461a7d1f3e9d",
    "tags": []
   },
   "outputs": [],
   "source": [
    "remote_file_path = \"/userfs/assets/01_ModelIrisData.ipynb\"\n",
    "local_file_path = \"01_ModelIrisData.ipynb\""
   ]
  },
  {
   "cell_type": "code",
   "execution_count": 22,
   "id": "accessory-wisdom",
   "metadata": {
    "id": "7e261e18-06bf-456d-bdd8-6648fdd35227",
    "tags": []
   },
   "outputs": [
    {
     "name": "stdout",
     "output_type": "stream",
     "text": [
      "...\n",
      "\u001b[32;1mOK\u001b[0m\n"
     ]
    }
   ],
   "source": [
    "! cpdctl asset file upload --path {remote_file_path} --file {local_file_path} --space-id {space_id}"
   ]
  },
  {
   "cell_type": "code",
   "execution_count": 31,
   "id": "forward-capitol",
   "metadata": {
    "id": "be42d4c8-3435-48b3-a7c1-56bdc77cd615",
    "tags": []
   },
   "outputs": [
    {
     "name": "stdout",
     "output_type": "stream",
     "text": [
      "...\n",
      "\u001b[1mName\u001b[0m                                     \u001b[1mVersion\u001b[0m   \n",
      "\u001b[36;1mjob\u001b[0m                                      2   \n",
      "\u001b[36;1mwml_experiment\u001b[0m                           1   \n",
      "\u001b[36;1mwml_training_definition\u001b[0m                  1   \n",
      "\u001b[36;1mwml_remote_training_system\u001b[0m               1   \n",
      "\u001b[36;1mwml_pipeline\u001b[0m                             1   \n",
      "\u001b[36;1mdata_flow\u001b[0m                                1   \n",
      "\u001b[36;1mconnection_credentials\u001b[0m                   1   \n",
      "\u001b[36;1mdatasource_type\u001b[0m                          1   \n",
      "\u001b[36;1mvirtual_data_asset\u001b[0m                       1   \n",
      "\u001b[36;1mmachine-learning-canvas-model\u001b[0m            1   \n",
      "\u001b[36;1mdata_intg_flow\u001b[0m                           1   \n",
      "\u001b[36;1mdata_profile\u001b[0m                             2   \n",
      "\u001b[36;1mcolumn_info\u001b[0m                              1   \n",
      "\u001b[36;1mhardware_specification\u001b[0m                   1   \n",
      "\u001b[36;1mpackage_extension\u001b[0m                        1   \n",
      "\u001b[36;1mpolicy_transform\u001b[0m                         1   \n",
      "\u001b[36;1mdata_definition\u001b[0m                          1   \n",
      "\u001b[36;1mcode_package\u001b[0m                             1   \n",
      "\u001b[36;1mdataview_visualization\u001b[0m                   1   \n",
      "\u001b[36;1mshiny_asset\u001b[0m                              66   \n",
      "\u001b[36;1mconnection\u001b[0m                               1   \n",
      "\u001b[36;1mwml_model_definition\u001b[0m                     1   \n",
      "\u001b[36;1mwml_function\u001b[0m                             1   \n",
      "\u001b[36;1mwml_deployment_job_definition\u001b[0m            1   \n",
      "\u001b[36;1mmachine-learning-canvas-model-metadata\u001b[0m   1   \n",
      "\u001b[36;1mmachine-learning-stream\u001b[0m                  1   \n",
      "\u001b[36;1mmachine-learning-canvas-model-viewable\u001b[0m   1   \n",
      "\u001b[36;1mmachine-learning-canvas-flow\u001b[0m             1   \n",
      "\u001b[36;1momrs_relationship\u001b[0m                        1   \n",
      "\u001b[36;1momrs_entity\u001b[0m                              1   \n",
      "\u001b[36;1mparameter_set\u001b[0m                            1   \n",
      "\u001b[36;1mds_info\u001b[0m                                  1   \n",
      "\u001b[36;1momrs_relationship_message\u001b[0m                1   \n",
      "\u001b[36;1mdata_intg_subflow\u001b[0m                        1   \n",
      "\u001b[36;1mdiscovered_asset\u001b[0m                         2   \n",
      "\u001b[36;1menvironment\u001b[0m                              1   \n",
      "\u001b[36;1mnotebook\u001b[0m                                 1   \n",
      "\u001b[36;1msoftware_specification\u001b[0m                   1   \n",
      "\u001b[36;1mmetadata_import\u001b[0m                          1   \n",
      "\u001b[36;1mfolder_asset\u001b[0m                             1   \n",
      "\u001b[36;1masset_terms\u001b[0m                              1   \n",
      "\u001b[36;1mdata_asset\u001b[0m                               1   \n",
      "\u001b[36;1mwml_model\u001b[0m                                2   \n",
      "\u001b[36;1mjob_run\u001b[0m                                  2   \n",
      "\u001b[36;1mds_message_handler\u001b[0m                       1   \n",
      "\u001b[36;1mcobol_copybook\u001b[0m                           1   \n",
      "\u001b[36;1mscript\u001b[0m                                   1   \n"
     ]
    }
   ],
   "source": [
    "! cpdctl asset type list --space-id {space_id}"
   ]
  },
  {
   "cell_type": "code",
   "execution_count": 32,
   "id": "discrete-holocaust",
   "metadata": {
    "id": "30cff024-3a3d-4d45-8bd0-9cf9300ba007",
    "tags": []
   },
   "outputs": [
    {
     "name": "stdout",
     "output_type": "stream",
     "text": [
      "...\n",
      "\u001b[1m\u001b[0m               \u001b[1m\u001b[0m   \n",
      "\u001b[36;1mName:\u001b[0m          script   \n",
      "\u001b[36;1mDescription:\u001b[0m   Script File   \n",
      "\u001b[36;1mVersion:\u001b[0m       1   \n"
     ]
    }
   ],
   "source": [
    "! cpdctl asset type get --type-name script --space-id {space_id}"
   ]
  },
  {
   "cell_type": "code",
   "execution_count": 34,
   "id": "cloudy-given",
   "metadata": {
    "id": "c8edbd62-a651-4551-acad-18ba5938df4d",
    "tags": []
   },
   "outputs": [
    {
     "name": "stdout",
     "output_type": "stream",
     "text": [
      "...\n",
      "\u001b[31;1mFAILED\u001b[0m\n",
      "\n",
      "\n",
      "\u001b[1mtrace\u001b[0m                       \u001b[1mcode\u001b[0m                \u001b[1mmessage\u001b[0m                                     \u001b[1mtarget\u001b[0m   \n",
      "\u001b[36;1m4wb8f8umpjztop3r3ove9dswi\u001b[0m   invalid_parameter   COMSV3006E: Missing or Invalid 'space' id   <Nested Object>   \n"
     ]
    }
   ],
   "source": [
    "! cpdctl asset search --type-name script --query {asset.name: Asset} --space-id {space_id}"
   ]
  },
  {
   "cell_type": "code",
   "execution_count": null,
   "id": "auburn-blackjack",
   "metadata": {
    "id": "8b74071d-5c56-4164-ba23-9a035b6de195"
   },
   "outputs": [],
   "source": []
  }
 ],
 "metadata": {
  "kernelspec": {
   "display_name": "Python 3.8",
   "language": "python",
   "name": "python3"
  },
  "language_info": {
   "codemirror_mode": {
    "name": "ipython",
    "version": 3
   },
   "file_extension": ".py",
   "mimetype": "text/x-python",
   "name": "python",
   "nbconvert_exporter": "python",
   "pygments_lexer": "ipython3",
   "version": "3.8.11"
  }
 },
 "nbformat": 4,
 "nbformat_minor": 5
}
