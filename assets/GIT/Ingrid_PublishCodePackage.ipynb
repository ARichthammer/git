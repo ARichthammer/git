{
 "cells": [
  {
   "cell_type": "markdown",
   "id": "hungry-perth",
   "metadata": {
    "id": "f108ae0f-5f86-4570-83f4-5b27a3205f9a"
   },
   "source": [
    "# Installation von cpdctl aus einem Python Notebook"
   ]
  },
  {
   "cell_type": "markdown",
   "id": "retained-hughes",
   "metadata": {
    "id": "85ae4711-e339-4b44-9092-20e2e952dd18"
   },
   "source": [
    "## 1. Schritt: Python Pakete laden"
   ]
  },
  {
   "cell_type": "code",
   "execution_count": 32,
   "id": "negative-yacht",
   "metadata": {
    "id": "b967d6a2-ad77-4e8f-af1b-98a2aa202658",
    "tags": []
   },
   "outputs": [],
   "source": [
    "import base64\n",
    "import json\n",
    "import os\n",
    "import requests\n",
    "import platform\n",
    "import tarfile\n",
    "import zipfile\n",
    "from IPython.core.display import display, HTML"
   ]
  },
  {
   "cell_type": "markdown",
   "id": "animal-reducing",
   "metadata": {
    "id": "81e6e966-e6c4-4ca8-8366-f8e010aa2c5e"
   },
   "source": [
    "## 2. Schritt: Deklarationen"
   ]
  },
  {
   "cell_type": "code",
   "execution_count": 33,
   "id": "based-guide",
   "metadata": {
    "id": "cda54467-996c-452a-a2b6-7cf0171f6750",
    "tags": []
   },
   "outputs": [
    {
     "data": {
      "text/plain": [
       "'linux'"
      ]
     },
     "execution_count": 33,
     "metadata": {},
     "output_type": "execute_result"
    }
   ],
   "source": [
    "PLATFORM = platform.system().lower()\n",
    "PLATFORM"
   ]
  },
  {
   "cell_type": "code",
   "execution_count": 34,
   "id": "thorough-intermediate",
   "metadata": {
    "id": "60e129f5-076c-4797-bc04-df58e940dd44",
    "tags": []
   },
   "outputs": [
    {
     "data": {
      "text/plain": [
       "'linux_amd64'"
      ]
     },
     "execution_count": 34,
     "metadata": {},
     "output_type": "execute_result"
    }
   ],
   "source": [
    "# Hier ist ein manueller Einfriff notwendig. \n",
    "# Es muss unter https://github.com/IBM/cpdctl/releases/ das richtige Binary (Bezeichnung: Asset) ausgesucht werden \n",
    "# und dann muss \"{}_amd64\" ersetzt werden in \n",
    "# CPDCTL_ARCH = \"{}_amd64\".format(PLATFORM)\n",
    "\n",
    "# Power LON: cpdctl_linux_ppc64le.tar.gz -> _ppc64le\n",
    "CPDCTL_ARCH = \"{}_amd64\".format(PLATFORM)\n",
    "# Kontrolle:\n",
    "CPDCTL_ARCH"
   ]
  },
  {
   "cell_type": "code",
   "execution_count": 35,
   "id": "afraid-detroit",
   "metadata": {
    "id": "463625bd-7942-494d-9ee8-8e9911a956c9",
    "tags": []
   },
   "outputs": [
    {
     "data": {
      "text/plain": [
       "'https://api.github.com/repos/IBM/cpdctl/releases'"
      ]
     },
     "execution_count": 35,
     "metadata": {},
     "output_type": "execute_result"
    }
   ],
   "source": [
    "CPDCTL_RELEASES_URL=\"https://api.github.com/repos/IBM/cpdctl/releases\"\n",
    "CPDCTL_RELEASES_URL"
   ]
  },
  {
   "cell_type": "code",
   "execution_count": 36,
   "id": "molecular-johnson",
   "metadata": {
    "id": "e3c0d86d-ad00-4da2-a483-d277ad54b8ee",
    "tags": []
   },
   "outputs": [
    {
     "data": {
      "text/plain": [
       "'/userfs/assets/GIT'"
      ]
     },
     "execution_count": 36,
     "metadata": {},
     "output_type": "execute_result"
    }
   ],
   "source": [
    "CWD = os.getcwd()\n",
    "CWD"
   ]
  },
  {
   "cell_type": "code",
   "execution_count": 37,
   "id": "cellular-yorkshire",
   "metadata": {
    "id": "5956b8b3-242c-4783-98f5-a358c1172097",
    "tags": []
   },
   "outputs": [
    {
     "data": {
      "text/plain": [
       "'/userfs/assets/GIT:/opt/conda/envs/Python-3.8-main/bin:/opt/conda/condabin:/opt/conda/bin:/usr/bin:/opt/ibm/dsdriver/bin'"
      ]
     },
     "execution_count": 37,
     "metadata": {},
     "output_type": "execute_result"
    }
   ],
   "source": [
    "PATH = os.environ['PATH']\n",
    "PATH"
   ]
  },
  {
   "cell_type": "code",
   "execution_count": 38,
   "id": "advised-blood",
   "metadata": {
    "id": "2fc4f2a4-123d-44f2-b18b-39cb00d686c9",
    "tags": []
   },
   "outputs": [
    {
     "data": {
      "text/plain": [
       "'/userfs/assets/GIT/.cpdctl.config.yml'"
      ]
     },
     "execution_count": 38,
     "metadata": {},
     "output_type": "execute_result"
    }
   ],
   "source": [
    "CPDCONFIG = os.path.join(CWD, '.cpdctl.config.yml')\n",
    "CPDCONFIG"
   ]
  },
  {
   "cell_type": "markdown",
   "id": "marine-potter",
   "metadata": {
    "id": "91e3e1a7-8105-4d90-aef9-15f4d13c9cfe"
   },
   "source": [
    "## 3. Schritt:  Asset auswählen (latest) "
   ]
  },
  {
   "cell_type": "code",
   "execution_count": 39,
   "id": "breathing-essay",
   "metadata": {
    "id": "8e3ab148-096f-4634-a57b-0984540124b7",
    "tags": []
   },
   "outputs": [
    {
     "data": {
      "text/plain": [
       "<Response [200]>"
      ]
     },
     "execution_count": 39,
     "metadata": {},
     "output_type": "execute_result"
    }
   ],
   "source": [
    "response = requests.get(CPDCTL_RELEASES_URL)\n",
    "response"
   ]
  },
  {
   "cell_type": "code",
   "execution_count": 40,
   "id": "premium-leonard",
   "metadata": {
    "id": "87fad36b-f369-4a01-b0d2-ea182bf4e6f2",
    "tags": []
   },
   "outputs": [
    {
     "data": {
      "text/plain": [
       "[{'url': 'https://api.github.com/repos/IBM/cpdctl/releases/assets/58341116',\n",
       "  'id': 58341116,\n",
       "  'node_id': 'RA_kwDOENOB5c4Dejb8',\n",
       "  'name': 'cpdctl_darwin_amd64.tar.gz',\n",
       "  'label': None,\n",
       "  'uploader': {'login': 'jacek-midura',\n",
       "   'id': 68907664,\n",
       "   'node_id': 'MDQ6VXNlcjY4OTA3NjY0',\n",
       "   'avatar_url': 'https://avatars.githubusercontent.com/u/68907664?v=4',\n",
       "   'gravatar_id': '',\n",
       "   'url': 'https://api.github.com/users/jacek-midura',\n",
       "   'html_url': 'https://github.com/jacek-midura',\n",
       "   'followers_url': 'https://api.github.com/users/jacek-midura/followers',\n",
       "   'following_url': 'https://api.github.com/users/jacek-midura/following{/other_user}',\n",
       "   'gists_url': 'https://api.github.com/users/jacek-midura/gists{/gist_id}',\n",
       "   'starred_url': 'https://api.github.com/users/jacek-midura/starred{/owner}{/repo}',\n",
       "   'subscriptions_url': 'https://api.github.com/users/jacek-midura/subscriptions',\n",
       "   'organizations_url': 'https://api.github.com/users/jacek-midura/orgs',\n",
       "   'repos_url': 'https://api.github.com/users/jacek-midura/repos',\n",
       "   'events_url': 'https://api.github.com/users/jacek-midura/events{/privacy}',\n",
       "   'received_events_url': 'https://api.github.com/users/jacek-midura/received_events',\n",
       "   'type': 'User',\n",
       "   'site_admin': False},\n",
       "  'content_type': 'application/gzip',\n",
       "  'state': 'uploaded',\n",
       "  'size': 12136791,\n",
       "  'download_count': 5,\n",
       "  'created_at': '2022-03-02T14:26:33Z',\n",
       "  'updated_at': '2022-03-02T14:26:39Z',\n",
       "  'browser_download_url': 'https://github.com/IBM/cpdctl/releases/download/v1.1.132/cpdctl_darwin_amd64.tar.gz'},\n",
       " {'url': 'https://api.github.com/repos/IBM/cpdctl/releases/assets/58341148',\n",
       "  'id': 58341148,\n",
       "  'node_id': 'RA_kwDOENOB5c4Dejcc',\n",
       "  'name': 'cpdctl_linux_amd64.tar.gz',\n",
       "  'label': None,\n",
       "  'uploader': {'login': 'jacek-midura',\n",
       "   'id': 68907664,\n",
       "   'node_id': 'MDQ6VXNlcjY4OTA3NjY0',\n",
       "   'avatar_url': 'https://avatars.githubusercontent.com/u/68907664?v=4',\n",
       "   'gravatar_id': '',\n",
       "   'url': 'https://api.github.com/users/jacek-midura',\n",
       "   'html_url': 'https://github.com/jacek-midura',\n",
       "   'followers_url': 'https://api.github.com/users/jacek-midura/followers',\n",
       "   'following_url': 'https://api.github.com/users/jacek-midura/following{/other_user}',\n",
       "   'gists_url': 'https://api.github.com/users/jacek-midura/gists{/gist_id}',\n",
       "   'starred_url': 'https://api.github.com/users/jacek-midura/starred{/owner}{/repo}',\n",
       "   'subscriptions_url': 'https://api.github.com/users/jacek-midura/subscriptions',\n",
       "   'organizations_url': 'https://api.github.com/users/jacek-midura/orgs',\n",
       "   'repos_url': 'https://api.github.com/users/jacek-midura/repos',\n",
       "   'events_url': 'https://api.github.com/users/jacek-midura/events{/privacy}',\n",
       "   'received_events_url': 'https://api.github.com/users/jacek-midura/received_events',\n",
       "   'type': 'User',\n",
       "   'site_admin': False},\n",
       "  'content_type': 'application/gzip',\n",
       "  'state': 'uploaded',\n",
       "  'size': 11857150,\n",
       "  'download_count': 56,\n",
       "  'created_at': '2022-03-02T14:26:39Z',\n",
       "  'updated_at': '2022-03-02T14:26:44Z',\n",
       "  'browser_download_url': 'https://github.com/IBM/cpdctl/releases/download/v1.1.132/cpdctl_linux_amd64.tar.gz'},\n",
       " {'url': 'https://api.github.com/repos/IBM/cpdctl/releases/assets/58341171',\n",
       "  'id': 58341171,\n",
       "  'node_id': 'RA_kwDOENOB5c4Dejcz',\n",
       "  'name': 'cpdctl_linux_ppc64le.tar.gz',\n",
       "  'label': None,\n",
       "  'uploader': {'login': 'jacek-midura',\n",
       "   'id': 68907664,\n",
       "   'node_id': 'MDQ6VXNlcjY4OTA3NjY0',\n",
       "   'avatar_url': 'https://avatars.githubusercontent.com/u/68907664?v=4',\n",
       "   'gravatar_id': '',\n",
       "   'url': 'https://api.github.com/users/jacek-midura',\n",
       "   'html_url': 'https://github.com/jacek-midura',\n",
       "   'followers_url': 'https://api.github.com/users/jacek-midura/followers',\n",
       "   'following_url': 'https://api.github.com/users/jacek-midura/following{/other_user}',\n",
       "   'gists_url': 'https://api.github.com/users/jacek-midura/gists{/gist_id}',\n",
       "   'starred_url': 'https://api.github.com/users/jacek-midura/starred{/owner}{/repo}',\n",
       "   'subscriptions_url': 'https://api.github.com/users/jacek-midura/subscriptions',\n",
       "   'organizations_url': 'https://api.github.com/users/jacek-midura/orgs',\n",
       "   'repos_url': 'https://api.github.com/users/jacek-midura/repos',\n",
       "   'events_url': 'https://api.github.com/users/jacek-midura/events{/privacy}',\n",
       "   'received_events_url': 'https://api.github.com/users/jacek-midura/received_events',\n",
       "   'type': 'User',\n",
       "   'site_admin': False},\n",
       "  'content_type': 'application/gzip',\n",
       "  'state': 'uploaded',\n",
       "  'size': 10061692,\n",
       "  'download_count': 0,\n",
       "  'created_at': '2022-03-02T14:26:45Z',\n",
       "  'updated_at': '2022-03-02T14:26:49Z',\n",
       "  'browser_download_url': 'https://github.com/IBM/cpdctl/releases/download/v1.1.132/cpdctl_linux_ppc64le.tar.gz'},\n",
       " {'url': 'https://api.github.com/repos/IBM/cpdctl/releases/assets/58341200',\n",
       "  'id': 58341200,\n",
       "  'node_id': 'RA_kwDOENOB5c4DejdQ',\n",
       "  'name': 'cpdctl_linux_s390x.tar.gz',\n",
       "  'label': None,\n",
       "  'uploader': {'login': 'jacek-midura',\n",
       "   'id': 68907664,\n",
       "   'node_id': 'MDQ6VXNlcjY4OTA3NjY0',\n",
       "   'avatar_url': 'https://avatars.githubusercontent.com/u/68907664?v=4',\n",
       "   'gravatar_id': '',\n",
       "   'url': 'https://api.github.com/users/jacek-midura',\n",
       "   'html_url': 'https://github.com/jacek-midura',\n",
       "   'followers_url': 'https://api.github.com/users/jacek-midura/followers',\n",
       "   'following_url': 'https://api.github.com/users/jacek-midura/following{/other_user}',\n",
       "   'gists_url': 'https://api.github.com/users/jacek-midura/gists{/gist_id}',\n",
       "   'starred_url': 'https://api.github.com/users/jacek-midura/starred{/owner}{/repo}',\n",
       "   'subscriptions_url': 'https://api.github.com/users/jacek-midura/subscriptions',\n",
       "   'organizations_url': 'https://api.github.com/users/jacek-midura/orgs',\n",
       "   'repos_url': 'https://api.github.com/users/jacek-midura/repos',\n",
       "   'events_url': 'https://api.github.com/users/jacek-midura/events{/privacy}',\n",
       "   'received_events_url': 'https://api.github.com/users/jacek-midura/received_events',\n",
       "   'type': 'User',\n",
       "   'site_admin': False},\n",
       "  'content_type': 'application/gzip',\n",
       "  'state': 'uploaded',\n",
       "  'size': 11619751,\n",
       "  'download_count': 0,\n",
       "  'created_at': '2022-03-02T14:26:49Z',\n",
       "  'updated_at': '2022-03-02T14:26:54Z',\n",
       "  'browser_download_url': 'https://github.com/IBM/cpdctl/releases/download/v1.1.132/cpdctl_linux_s390x.tar.gz'},\n",
       " {'url': 'https://api.github.com/repos/IBM/cpdctl/releases/assets/58341221',\n",
       "  'id': 58341221,\n",
       "  'node_id': 'RA_kwDOENOB5c4Dejdl',\n",
       "  'name': 'cpdctl_windows_amd64.zip',\n",
       "  'label': None,\n",
       "  'uploader': {'login': 'jacek-midura',\n",
       "   'id': 68907664,\n",
       "   'node_id': 'MDQ6VXNlcjY4OTA3NjY0',\n",
       "   'avatar_url': 'https://avatars.githubusercontent.com/u/68907664?v=4',\n",
       "   'gravatar_id': '',\n",
       "   'url': 'https://api.github.com/users/jacek-midura',\n",
       "   'html_url': 'https://github.com/jacek-midura',\n",
       "   'followers_url': 'https://api.github.com/users/jacek-midura/followers',\n",
       "   'following_url': 'https://api.github.com/users/jacek-midura/following{/other_user}',\n",
       "   'gists_url': 'https://api.github.com/users/jacek-midura/gists{/gist_id}',\n",
       "   'starred_url': 'https://api.github.com/users/jacek-midura/starred{/owner}{/repo}',\n",
       "   'subscriptions_url': 'https://api.github.com/users/jacek-midura/subscriptions',\n",
       "   'organizations_url': 'https://api.github.com/users/jacek-midura/orgs',\n",
       "   'repos_url': 'https://api.github.com/users/jacek-midura/repos',\n",
       "   'events_url': 'https://api.github.com/users/jacek-midura/events{/privacy}',\n",
       "   'received_events_url': 'https://api.github.com/users/jacek-midura/received_events',\n",
       "   'type': 'User',\n",
       "   'site_admin': False},\n",
       "  'content_type': 'application/zip',\n",
       "  'state': 'uploaded',\n",
       "  'size': 28699766,\n",
       "  'download_count': 1,\n",
       "  'created_at': '2022-03-02T14:26:55Z',\n",
       "  'updated_at': '2022-03-02T14:27:07Z',\n",
       "  'browser_download_url': 'https://github.com/IBM/cpdctl/releases/download/v1.1.132/cpdctl_windows_amd64.zip'}]"
      ]
     },
     "execution_count": 40,
     "metadata": {},
     "output_type": "execute_result"
    }
   ],
   "source": [
    "# alle Assets anzeigen\n",
    "assets = response.json()[0]['assets']\n",
    "assets"
   ]
  },
  {
   "cell_type": "code",
   "execution_count": 41,
   "id": "exciting-netscape",
   "metadata": {
    "id": "e0b10ab6-0e14-4dce-9290-af182c1ae83d",
    "tags": []
   },
   "outputs": [
    {
     "data": {
      "text/plain": [
       "{'url': 'https://api.github.com/repos/IBM/cpdctl/releases/assets/58341148',\n",
       " 'id': 58341148,\n",
       " 'node_id': 'RA_kwDOENOB5c4Dejcc',\n",
       " 'name': 'cpdctl_linux_amd64.tar.gz',\n",
       " 'label': None,\n",
       " 'uploader': {'login': 'jacek-midura',\n",
       "  'id': 68907664,\n",
       "  'node_id': 'MDQ6VXNlcjY4OTA3NjY0',\n",
       "  'avatar_url': 'https://avatars.githubusercontent.com/u/68907664?v=4',\n",
       "  'gravatar_id': '',\n",
       "  'url': 'https://api.github.com/users/jacek-midura',\n",
       "  'html_url': 'https://github.com/jacek-midura',\n",
       "  'followers_url': 'https://api.github.com/users/jacek-midura/followers',\n",
       "  'following_url': 'https://api.github.com/users/jacek-midura/following{/other_user}',\n",
       "  'gists_url': 'https://api.github.com/users/jacek-midura/gists{/gist_id}',\n",
       "  'starred_url': 'https://api.github.com/users/jacek-midura/starred{/owner}{/repo}',\n",
       "  'subscriptions_url': 'https://api.github.com/users/jacek-midura/subscriptions',\n",
       "  'organizations_url': 'https://api.github.com/users/jacek-midura/orgs',\n",
       "  'repos_url': 'https://api.github.com/users/jacek-midura/repos',\n",
       "  'events_url': 'https://api.github.com/users/jacek-midura/events{/privacy}',\n",
       "  'received_events_url': 'https://api.github.com/users/jacek-midura/received_events',\n",
       "  'type': 'User',\n",
       "  'site_admin': False},\n",
       " 'content_type': 'application/gzip',\n",
       " 'state': 'uploaded',\n",
       " 'size': 11857150,\n",
       " 'download_count': 56,\n",
       " 'created_at': '2022-03-02T14:26:39Z',\n",
       " 'updated_at': '2022-03-02T14:26:44Z',\n",
       " 'browser_download_url': 'https://github.com/IBM/cpdctl/releases/download/v1.1.132/cpdctl_linux_amd64.tar.gz'}"
      ]
     },
     "execution_count": 41,
     "metadata": {},
     "output_type": "execute_result"
    }
   ],
   "source": [
    "# richtiges Asset auswählen\n",
    "platform_asset = next(a for a in assets if CPDCTL_ARCH in a['name'])\n",
    "platform_asset"
   ]
  },
  {
   "cell_type": "code",
   "execution_count": 42,
   "id": "rising-surgeon",
   "metadata": {
    "id": "eda9675b-6462-4c5a-865e-c323313975e5",
    "tags": []
   },
   "outputs": [
    {
     "data": {
      "text/plain": [
       "'https://api.github.com/repos/IBM/cpdctl/releases/assets/58341148'"
      ]
     },
     "execution_count": 42,
     "metadata": {},
     "output_type": "execute_result"
    }
   ],
   "source": [
    "# url ziehen aus platform_asset\n",
    "cpdctl_url = platform_asset['url']\n",
    "cpdctl_url"
   ]
  },
  {
   "cell_type": "code",
   "execution_count": 43,
   "id": "cleared-volleyball",
   "metadata": {
    "id": "8dfedb30-97bb-4ada-b387-13b4860aa25a",
    "tags": []
   },
   "outputs": [
    {
     "data": {
      "text/plain": [
       "'cpdctl_linux_amd64.tar.gz'"
      ]
     },
     "execution_count": 43,
     "metadata": {},
     "output_type": "execute_result"
    }
   ],
   "source": [
    "# Name ziehen aus platform_asset\n",
    "cpdctl_file_name = platform_asset['name']\n",
    "cpdctl_file_name"
   ]
  },
  {
   "cell_type": "code",
   "execution_count": 44,
   "id": "irish-prince",
   "metadata": {
    "id": "58403386-a704-4702-b087-d1105a1e661e",
    "tags": []
   },
   "outputs": [
    {
     "data": {
      "text/plain": [
       "<Response [200]>"
      ]
     },
     "execution_count": 44,
     "metadata": {},
     "output_type": "execute_result"
    }
   ],
   "source": [
    "# Download Asset\n",
    "response = requests.get(cpdctl_url, headers={'Accept': 'application/octet-stream'})\n",
    "with open(cpdctl_file_name, 'wb') as f:\n",
    "    f.write(response.content)\n",
    "response"
   ]
  },
  {
   "cell_type": "code",
   "execution_count": 45,
   "id": "crazy-nigeria",
   "metadata": {
    "id": "1f9a89f1-189f-4ef0-8f8b-71d95c314c56",
    "tags": []
   },
   "outputs": [
    {
     "data": {
      "text/html": [
       "<code>cpdctl</code> binary downloaded from: <a href=\"https://github.com/IBM/cpdctl/releases/download/v1.1.132/cpdctl_linux_amd64.tar.gz\">cpdctl_linux_amd64.tar.gz</a>"
      ],
      "text/plain": [
       "<IPython.core.display.HTML object>"
      ]
     },
     "metadata": {},
     "output_type": "display_data"
    }
   ],
   "source": [
    "display(HTML('<code>cpdctl</code> binary downloaded from: <a href=\"{}\">{}</a>'.format(platform_asset['browser_download_url'], platform_asset['name'])))"
   ]
  },
  {
   "cell_type": "code",
   "execution_count": 46,
   "id": "metallic-bicycle",
   "metadata": {
    "id": "7c4cf49c-235c-4bb1-abf9-d8a20db421c2",
    "tags": []
   },
   "outputs": [
    {
     "data": {
      "text/plain": [
       "'/userfs/assets/GIT'"
      ]
     },
     "execution_count": 46,
     "metadata": {},
     "output_type": "execute_result"
    }
   ],
   "source": [
    "pwd"
   ]
  },
  {
   "cell_type": "code",
   "execution_count": 47,
   "id": "prime-edinburgh",
   "metadata": {
    "id": "29a929ec-07b9-4c6b-a62a-fcc116109cbd",
    "tags": []
   },
   "outputs": [
    {
     "name": "stdout",
     "output_type": "stream",
     "text": [
      "total 11636\n",
      "-rw-r-----. 1 1000620000 wscommon    24144 Mar 11 08:37 cpdctl_Beispiele.ipynb\n",
      "-rw-rw----. 1 1000620000 wscommon 11857150 Mar 11 09:08 cpdctl_linux_amd64.tar.gz\n",
      "-rw-r-----. 1 1000620000 wscommon    33258 Mar 11 08:33 Ingrid_PublishCodePackage.ipynb\n"
     ]
    }
   ],
   "source": [
    "ls -l"
   ]
  },
  {
   "cell_type": "code",
   "execution_count": 48,
   "id": "printable-supervisor",
   "metadata": {
    "id": "23d42fbd-7a2a-4233-a6be-354e235aa229",
    "tags": []
   },
   "outputs": [
    {
     "name": "stdout",
     "output_type": "stream",
     "text": [
      "env: PATH=/userfs/assets/GIT:/userfs/assets/GIT:/opt/conda/envs/Python-3.8-main/bin:/opt/conda/condabin:/opt/conda/bin:/usr/bin:/opt/ibm/dsdriver/bin\n",
      "env: CPDCONFIG=/userfs/assets/GIT/.cpdctl.config.yml\n"
     ]
    }
   ],
   "source": [
    "# Virtuelles environment, %%capture unterdrückt nur die Ausgabe\n",
    "# %%capture\n",
    "\n",
    "%env PATH={CWD}:{PATH}\n",
    "%env CPDCONFIG={CPDCONFIG}"
   ]
  },
  {
   "cell_type": "code",
   "execution_count": 49,
   "id": "declared-mounting",
   "metadata": {
    "id": "20a09c22-195c-4612-b57e-49416446ba5c",
    "tags": []
   },
   "outputs": [],
   "source": [
    "# Entpacken\n",
    "if cpdctl_file_name.endswith('tar.gz'):\n",
    "    with tarfile.open(cpdctl_file_name, \"r:gz\") as tar:\n",
    "        tar.extractall()\n",
    "elif cpdctl_file_name.endswith('zip'):\n",
    "    with zipfile.ZipFile(cpdctl_file_name, 'r') as zf:\n",
    "        zf.extractall()"
   ]
  },
  {
   "cell_type": "code",
   "execution_count": 50,
   "id": "israeli-situation",
   "metadata": {
    "id": "fec3c0c5-867d-4a9f-bb04-2f3d91fa9cf1",
    "tags": []
   },
   "outputs": [
    {
     "name": "stdout",
     "output_type": "stream",
     "text": [
      "total 39171\n",
      "-rwxr-xr-x. 1 1000620000 wscommon 28195141 Mar  2 13:11 \u001b[0m\u001b[01;32mcpdctl\u001b[0m*\n",
      "-rw-r-----. 1 1000620000 wscommon    24144 Mar 11 08:37 cpdctl_Beispiele.ipynb\n",
      "-rw-rw----. 1 1000620000 wscommon 11857150 Mar 11 09:08 cpdctl_linux_amd64.tar.gz\n",
      "-rw-r-----. 1 1000620000 wscommon    33258 Mar 11 08:33 Ingrid_PublishCodePackage.ipynb\n"
     ]
    }
   ],
   "source": [
    "ls -l"
   ]
  },
  {
   "cell_type": "code",
   "execution_count": 51,
   "id": "diagnostic-speed",
   "metadata": {
    "id": "4aec1d46-2516-41a7-8323-1804cd9b9831",
    "tags": []
   },
   "outputs": [
    {
     "data": {
      "text/plain": [
       "'/opt/conda/envs/Python-3.8-main'"
      ]
     },
     "execution_count": 51,
     "metadata": {},
     "output_type": "execute_result"
    }
   ],
   "source": [
    "import sys\n",
    "sys.prefix"
   ]
  },
  {
   "cell_type": "code",
   "execution_count": 52,
   "id": "ecological-andrew",
   "metadata": {
    "id": "565e40b8-7ae3-4bdb-94db-767a09ca7a00",
    "tags": []
   },
   "outputs": [
    {
     "data": {
      "text/plain": [
       "'/opt/conda/envs/Python-3.8-main/bin/python'"
      ]
     },
     "execution_count": 52,
     "metadata": {},
     "output_type": "execute_result"
    }
   ],
   "source": [
    "sys.executable "
   ]
  },
  {
   "cell_type": "code",
   "execution_count": null,
   "id": "paperback-stationery",
   "metadata": {
    "id": "83d08739-7660-45ec-9dae-bd914bab028c"
   },
   "outputs": [],
   "source": []
  },
  {
   "cell_type": "code",
   "execution_count": null,
   "id": "sublime-night",
   "metadata": {
    "id": "571b53d3-1c59-4624-8e67-b0fb4158d1ab"
   },
   "outputs": [],
   "source": []
  },
  {
   "cell_type": "code",
   "execution_count": 22,
   "id": "powered-onion",
   "metadata": {
    "id": "a127ed34-4271-4773-819b-042e251542c4",
    "tags": []
   },
   "outputs": [
    {
     "name": "stdout",
     "output_type": "stream",
     "text": [
      "cpdctl version: 1.1.132\n"
     ]
    }
   ],
   "source": [
    "if CPDCONFIG and os.path.exists(CPDCONFIG):\n",
    "    os.remove(CPDCONFIG)\n",
    "    \n",
    "version_r = ! cpdctl version\n",
    "CPDCTL_VERSION = version_r.s\n",
    "\n",
    "print(\"cpdctl version: {}\".format(CPDCTL_VERSION))"
   ]
  },
  {
   "cell_type": "code",
   "execution_count": 25,
   "id": "hindu-syracuse",
   "metadata": {
    "id": "167ddbe5-f99e-4dd4-a4c1-862456819c5a",
    "tags": []
   },
   "outputs": [],
   "source": [
    "CPD_USER_NAME = 'ritchie'\n",
    "CPD_USER_PASSWORD = 'Enigma'\n",
    "CPD_URL = 'https://cpd-cp4d.apps.10.99.103.31.nip.io/zen/#/homepage'"
   ]
  },
  {
   "cell_type": "code",
   "execution_count": 26,
   "id": "acute-whale",
   "metadata": {
    "id": "b21d76a6-0884-4cb6-97aa-c07050dc1a1d",
    "tags": []
   },
   "outputs": [],
   "source": [
    "! cpdctl config user set cpd_user --username {CPD_USER_NAME} --password {CPD_USER_PASSWORD}"
   ]
  },
  {
   "cell_type": "code",
   "execution_count": 27,
   "id": "breathing-riverside",
   "metadata": {
    "id": "84049dca-852c-4103-9b88-b41bcf0e55ac",
    "tags": []
   },
   "outputs": [
    {
     "name": "stdout",
     "output_type": "stream",
     "text": [
      "Failed to check CP4D instance version. Verify profile URL \"https://cpd-cp4d.apps.10.99.103.31.nip.io/zen/#/homepage\".\n",
      "Get \"https://cpd-cp4d.apps.10.99.103.31.nip.io/zen//diag#/homepage\": dial tcp: lookup cpd-cp4d.apps.10.99.103.31.nip.io on 172.30.0.10:53: no such host\n"
     ]
    }
   ],
   "source": [
    "! cpdctl config profile set cpd --url {CPD_URL}"
   ]
  },
  {
   "cell_type": "code",
   "execution_count": 28,
   "id": "external-hazard",
   "metadata": {
    "id": "43b36d43-f7d2-48e1-9ec3-126601319673",
    "tags": []
   },
   "outputs": [],
   "source": [
    "! cpdctl config context set cpd --profile cpd --user cpd_user"
   ]
  },
  {
   "cell_type": "code",
   "execution_count": 29,
   "id": "significant-culture",
   "metadata": {
    "id": "3b5e0ddf-8361-4aec-9169-8d71f3c0fb70",
    "tags": []
   },
   "outputs": [
    {
     "name": "stdout",
     "output_type": "stream",
     "text": [
      "\u001b[1mName\u001b[0m                          \u001b[1mProfile\u001b[0m                       \u001b[1mUser\u001b[0m                       \u001b[1mCurrent\u001b[0m   \n",
      "\u001b[36;1minClusterEnvironmentContext\u001b[0m   inClusterEnvironmentProfile   inClusterEnvironmentUser   *   \n"
     ]
    }
   ],
   "source": [
    "! cpdctl config context list"
   ]
  },
  {
   "cell_type": "code",
   "execution_count": 30,
   "id": "infrared-joshua",
   "metadata": {
    "id": "354817e9-5b36-47cc-8d21-940bb75edcc8",
    "tags": []
   },
   "outputs": [
    {
     "data": {
      "text/plain": [
       "'/userfs/assets/GIT'"
      ]
     },
     "execution_count": 30,
     "metadata": {},
     "output_type": "execute_result"
    }
   ],
   "source": [
    "pwd"
   ]
  },
  {
   "cell_type": "code",
   "execution_count": 31,
   "id": "streaming-degree",
   "metadata": {
    "id": "820efb03-f3ec-459f-b6e2-8d28248590a5",
    "tags": []
   },
   "outputs": [
    {
     "name": "stdout",
     "output_type": "stream",
     "text": [
      "...\n",
      "\u001b[1mID\u001b[0m                                     \u001b[1mName\u001b[0m              \u001b[1mCreated\u001b[0m                    \u001b[1mDescription\u001b[0m   \u001b[1mState\u001b[0m    \u001b[1mTags\u001b[0m   \n",
      "\u001b[36;1m68d65b57-9da2-4e24-93be-87f2eb2f2140\u001b[0m   Credit Default    2021-10-28T22:04:01.776Z                 active   []   \n",
      "\u001b[36;1m8a39af86-076d-47f3-a9a5-0927361cd430\u001b[0m   Baufinanzierung   2021-10-29T12:45:35.851Z                 active   []   \n",
      "\u001b[36;1m30093262-7220-496f-997a-096be73471cf\u001b[0m   Churn_Analyse     2021-11-22T12:14:12.660Z                 active   []   \n",
      "\u001b[36;1mf2124828-0125-45e8-8dda-e8b8ad142fb6\u001b[0m   Test              2022-02-17T20:51:38.662Z                 active   []   \n"
     ]
    }
   ],
   "source": [
    "! cpdctl space list"
   ]
  },
  {
   "cell_type": "code",
   "execution_count": 6,
   "id": "pressed-communication",
   "metadata": {
    "id": "8b3de733-f8fa-4811-8cf0-f5719d9f4011",
    "tags": []
   },
   "outputs": [],
   "source": [
    "space_id = '8cc1d8a2-7594-451f-a37f-4201ee415967'"
   ]
  },
  {
   "cell_type": "code",
   "execution_count": 1,
   "id": "marine-importance",
   "metadata": {
    "id": "5fa48dbc-4775-431f-b00d-cfd97ed2a5b2",
    "tags": []
   },
   "outputs": [],
   "source": [
    "# create a zip file with the Notebook and the two helper libs"
   ]
  },
  {
   "cell_type": "code",
   "execution_count": 2,
   "id": "lightweight-awareness",
   "metadata": {
    "id": "2dbe79a8-f206-4af5-9668-a7871174b83c",
    "tags": []
   },
   "outputs": [],
   "source": [
    "import zipfile"
   ]
  },
  {
   "cell_type": "code",
   "execution_count": 3,
   "id": "respected-database",
   "metadata": {
    "id": "7694d3a9-4a80-474a-a43d-45543cc2a6ce",
    "tags": []
   },
   "outputs": [],
   "source": [
    "with zipfile.ZipFile('codePackage.zip', 'w') as myzip:\n",
    "    myzip.write('01_ModelIrisData.ipynb')"
   ]
  },
  {
   "cell_type": "code",
   "execution_count": 4,
   "id": "underlying-hybrid",
   "metadata": {
    "id": "69d486c9-d65a-400b-a95c-7cd428de5632",
    "tags": []
   },
   "outputs": [],
   "source": [
    "with zipfile.ZipFile('codePackage.zip', 'a') as myzip:\n",
    "    myzip.write('01_save_DataAsset.py')"
   ]
  },
  {
   "cell_type": "code",
   "execution_count": null,
   "id": "returning-draft",
   "metadata": {
    "id": "8ff61f42-53be-435b-9ea2-b9cc42aa1ff3",
    "tags": []
   },
   "outputs": [],
   "source": [
    "with zipfile.ZipFile('codePackage.zip', 'w') as myzip:\n",
    "    myzip.write('01_ModelIrisData.ipynb')\n",
    "    \n",
    "with zipfile.ZipFile('codePackage.zip', 'a') as myzip:\n",
    "    myzip.write('01_save_DataAsset.py')\n",
    "    \n",
    "#with zipfile.ZipFile('codePackage.zip', 'a') as myzip:\n",
    "#   myzip.write('MainNB.ipynb')\n"
   ]
  },
  {
   "cell_type": "code",
   "execution_count": 5,
   "id": "synthetic-marshall",
   "metadata": {
    "id": "724309da-aca6-46fb-a82d-a7b7c376ef17",
    "tags": []
   },
   "outputs": [],
   "source": [
    "remote_file_path = \"/userfs/assets/codePackage.zip\"\n",
    "local_file_path = \"codePackage.zip\""
   ]
  },
  {
   "cell_type": "code",
   "execution_count": 7,
   "id": "liquid-earthquake",
   "metadata": {
    "id": "c62b4bb7-36dc-400b-a389-17f6f03c341d",
    "tags": []
   },
   "outputs": [
    {
     "name": "stdout",
     "output_type": "stream",
     "text": [
      "...\n",
      "\u001b[32;1mOK\u001b[0m\n"
     ]
    }
   ],
   "source": [
    "! /userfs/assets/cpdctl asset file upload --path {remote_file_path} --file {local_file_path} --space-id {space_id}"
   ]
  },
  {
   "cell_type": "code",
   "execution_count": 9,
   "id": "moderate-pepper",
   "metadata": {
    "id": "c84e56e9-9a4a-44b5-8e51-2db27c50e10b",
    "tags": []
   },
   "outputs": [],
   "source": [
    "import os"
   ]
  },
  {
   "cell_type": "code",
   "execution_count": 10,
   "id": "imposed-rebound",
   "metadata": {
    "id": "a4899cd2-981a-4f20-b916-588e1e4a0623",
    "tags": []
   },
   "outputs": [],
   "source": [
    "os.environ[\"CPDCTL_ENABLE_CODE_PACKAGE\"] = \"true\""
   ]
  },
  {
   "cell_type": "code",
   "execution_count": 11,
   "id": "intelligent-announcement",
   "metadata": {
    "id": "832df285-fde6-4899-9e28-ed5e1b24855e",
    "tags": []
   },
   "outputs": [],
   "source": [
    "file_name = \"codePackage.zip\""
   ]
  },
  {
   "cell_type": "code",
   "execution_count": 13,
   "id": "pointed-treasure",
   "metadata": {
    "id": "d548f35a-c996-47a1-a365-eeb775cc6e86",
    "tags": []
   },
   "outputs": [
    {
     "name": "stdout",
     "output_type": "stream",
     "text": [
      "code package id: 62ff4a6b-6685-4a01-9201-a46e73bfec2d\n"
     ]
    }
   ],
   "source": [
    "result = ! /userfs/assets/cpdctl code-package create --file-reference {remote_file_path} --name {file_name} --space-id {space_id} --output json -j \"metadata.asset_id\" --raw-output\n",
    "code_package_id = result.s\n",
    "print(\"code package id: {}\".format(code_package_id))"
   ]
  },
  {
   "cell_type": "code",
   "execution_count": null,
   "id": "adapted-andrew",
   "metadata": {
    "id": "51bc5544-0552-49b0-a24c-f16f5f98afa5"
   },
   "outputs": [],
   "source": []
  }
 ],
 "metadata": {
  "kernelspec": {
   "display_name": "Python 3.8",
   "language": "python",
   "name": "python3"
  },
  "language_info": {
   "codemirror_mode": {
    "name": "ipython",
    "version": 3
   },
   "file_extension": ".py",
   "mimetype": "text/x-python",
   "name": "python",
   "nbconvert_exporter": "python",
   "pygments_lexer": "ipython3",
   "version": "3.8.11"
  }
 },
 "nbformat": 4,
 "nbformat_minor": 5
}
