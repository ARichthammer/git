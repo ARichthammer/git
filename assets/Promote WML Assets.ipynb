{
 "cells": [
  {
   "cell_type": "markdown",
   "metadata": {
    "id": "975610f5-e4ef-4b13-8430-dc7a661f5063"
   },
   "source": [
    "# Promote WML Assets"
   ]
  },
  {
   "cell_type": "markdown",
   "metadata": {
    "id": "11cfa1f8-e341-48e4-ace3-37b2630b11f4"
   },
   "source": [
    "## CPD Credentials & Context Configuration"
   ]
  },
  {
   "cell_type": "code",
   "execution_count": 69,
   "metadata": {
    "id": "31f99c23-2e9a-4a08-9676-5faa09d5f051",
    "tags": []
   },
   "outputs": [],
   "source": [
    "import base64\n",
    "import json\n",
    "import os\n",
    "import requests\n",
    "import platform\n",
    "import tarfile\n",
    "import zipfile\n",
    "from IPython.core.display import display, HTML"
   ]
  },
  {
   "cell_type": "code",
   "execution_count": 70,
   "metadata": {
    "id": "73d02a02-26da-4328-a175-4da2dd6237ea",
    "tags": []
   },
   "outputs": [],
   "source": [
    "CPD_USER_NAME = 'ritchie'\n",
    "CPD_USER_PASSWORD = 'Enigma'\n",
    "CPD_URL = 'https://cpd-cp4d.apps.10.99.103.31.nip.io/zen/#/homepage'"
   ]
  },
  {
   "cell_type": "code",
   "execution_count": 71,
   "metadata": {
    "id": "18e2e650-f938-4055-a172-e34a7d9b9b21",
    "tags": []
   },
   "outputs": [],
   "source": [
    "import os\n",
    "CWD = os.getcwd()\n",
    "PATH = os.environ['PATH']"
   ]
  },
  {
   "cell_type": "code",
   "execution_count": 72,
   "metadata": {
    "id": "72eb8a38-7bb0-4283-a411-2adb097f8ed2",
    "tags": []
   },
   "outputs": [
    {
     "name": "stdout",
     "output_type": "stream",
     "text": [
      "env: PATH=/userfs/assets:/userfs/assets:/userfs/assets:/userfs/assets:/opt/conda/envs/Python-3.8-main/bin:/opt/conda/condabin:/opt/conda/bin:/usr/bin:/opt/ibm/dsdriver/bin\n"
     ]
    }
   ],
   "source": [
    "%env PATH={CWD}:{PATH}"
   ]
  },
  {
   "cell_type": "code",
   "execution_count": 73,
   "metadata": {
    "id": "5835d1ec-b656-41f2-82f7-d2fa818d6037",
    "tags": []
   },
   "outputs": [
    {
     "name": "stdout",
     "output_type": "stream",
     "text": [
      "\u001b[1mName\u001b[0m                          \u001b[1mProfile\u001b[0m                       \u001b[1mUser\u001b[0m                       \u001b[1mCurrent\u001b[0m   \n",
      "\u001b[36;1minClusterEnvironmentContext\u001b[0m   inClusterEnvironmentProfile   inClusterEnvironmentUser   *   \n"
     ]
    }
   ],
   "source": [
    "# Context anzeigen\n",
    "# hier: in Cluster in WatsonStudio\n",
    "! cpdctl config context list"
   ]
  },
  {
   "cell_type": "markdown",
   "metadata": {
    "id": "710f599a-9be4-41e6-87e2-7c6f6d5b8de1"
   },
   "source": [
    "## Deployment"
   ]
  },
  {
   "cell_type": "markdown",
   "metadata": {
    "id": "cbfd4df9-cede-4915-b663-e5da64b593e1"
   },
   "source": [
    "List available projects in current context"
   ]
  },
  {
   "cell_type": "code",
   "execution_count": 94,
   "metadata": {
    "id": "2a894da8-34a4-4ba2-b2a1-3f42dfd06d1a",
    "tags": []
   },
   "outputs": [
    {
     "name": "stdout",
     "output_type": "stream",
     "text": [
      "...\n",
      "\u001b[1mID\u001b[0m                                     \u001b[1mName\u001b[0m                \u001b[1mCreated\u001b[0m                    \u001b[1mDescription\u001b[0m                            \u001b[1mTags\u001b[0m   \n",
      "\u001b[36;1mf1be1dbd-fd40-4c0e-8c08-9d953b1d6750\u001b[0m   Credit Default      2021-10-28T13:18:16.552Z                                          []   \n",
      "\u001b[36;1m80565ecd-16f0-43b7-8441-2dbb81cff74d\u001b[0m   EVU_Churn           2021-11-18T18:33:50.980Z                                          []   \n",
      "\u001b[36;1ma1370058-bea2-4924-ad77-02fb91aacde5\u001b[0m   GIT Project         2022-02-17T20:34:48.139Z                                          []   \n",
      "\u001b[36;1m104ec1bc-8b2f-4db6-a2d6-4cd4b609eefb\u001b[0m   GitNeu              2022-02-08T12:53:32.140Z                                          []   \n",
      "\u001b[36;1m47e27641-465e-4c5c-b9d3-3ea27458ac62\u001b[0m   Baufinanzierung     2021-10-28T11:25:30.000Z                                          []   \n",
      "\u001b[36;1m1ba245b8-2f71-4d7d-966c-cd14a0975b4a\u001b[0m   Affinitätsanalyse   2021-10-29T14:01:33.059Z                                          []   \n",
      "\u001b[36;1m5ccef902-155e-4cff-a714-0ab3cd8a78a0\u001b[0m   CHURN_Analytics     2021-11-22T09:20:02.774Z   Analyseprojekt für Kundenabwanderung   []   \n"
     ]
    }
   ],
   "source": [
    "# Alle Projekte listen, in denen der CPD User Collaborateur ist.\n",
    "! cpdctl project list"
   ]
  },
  {
   "cell_type": "markdown",
   "metadata": {
    "id": "6321b56b-8567-4811-a4b2-0df0b8a42af9"
   },
   "source": [
    "### Access the selected project assets"
   ]
  },
  {
   "cell_type": "markdown",
   "metadata": {
    "id": "88fe71ea-682b-4275-8da9-fbd50cc6876e"
   },
   "source": [
    "Get git-demo project ID and show details"
   ]
  },
  {
   "cell_type": "code",
   "execution_count": 95,
   "metadata": {
    "id": "54af8773-2de9-4169-82b4-9405aca8d44c",
    "pycharm": {
     "is_executing": false
    },
    "tags": []
   },
   "outputs": [
    {
     "name": "stdout",
     "output_type": "stream",
     "text": [
      "...\n",
      "\u001b[1m\u001b[0m               \u001b[1m\u001b[0m   \n",
      "\u001b[36;1mID:\u001b[0m            a1370058-bea2-4924-ad77-02fb91aacde5   \n",
      "\u001b[36;1mName:\u001b[0m          GIT Project   \n",
      "\u001b[36;1mCreated:\u001b[0m       2022-02-17T20:34:48.139Z   \n",
      "\u001b[36;1mDescription:\u001b[0m      \n",
      "\u001b[36;1mTags:\u001b[0m          []   \n"
     ]
    }
   ],
   "source": [
    "result = ! cpdctl project list --output json --raw-output --jmes-query 'resources[2].metadata.guid'\n",
    "PROJECT_ID = result.s\n",
    "! cpdctl project get --project-id {PROJECT_ID}"
   ]
  },
  {
   "cell_type": "code",
   "execution_count": 96,
   "metadata": {
    "id": "80e45dc1-aee8-4911-8a63-f490a44448d9",
    "pycharm": {
     "is_executing": false
    },
    "tags": []
   },
   "outputs": [
    {
     "name": "stdout",
     "output_type": "stream",
     "text": [
      "'GIT Project' project ID is: a1370058-bea2-4924-ad77-02fb91aacde5\n"
     ]
    }
   ],
   "source": [
    "result = ! cpdctl project get --project-id {PROJECT_ID} --output json --jmes-query \"entity.name\" --raw-output\n",
    "PROJECT_NAME = result.s\n",
    "print(\"'{}' project ID is: {}\".format(PROJECT_NAME, PROJECT_ID))"
   ]
  },
  {
   "cell_type": "markdown",
   "metadata": {
    "id": "a2d9820b-392e-489f-9889-f6cb2248eb40"
   },
   "source": [
    "List assets in the project"
   ]
  },
  {
   "cell_type": "code",
   "execution_count": 97,
   "metadata": {
    "id": "d3213224-5c51-4476-857f-958c7c30e6c6",
    "pycharm": {
     "is_executing": false
    },
    "tags": []
   },
   "outputs": [
    {
     "name": "stdout",
     "output_type": "stream",
     "text": [
      "...\n",
      "\u001b[1mID\u001b[0m                                 \u001b[1mName\u001b[0m                     \u001b[1mCreated\u001b[0m                    \u001b[1mType\u001b[0m                      \u001b[1mTags\u001b[0m   \u001b[1mSize\u001b[0m   \n",
      "\u001b[36;1mdata_asset.EVUScoringcsv\u001b[0m           EVU_Scoring.csv          2022-02-17T20:38:30.000Z   data_asset                []     0   \n",
      "\u001b[36;1mdata_asset.EVUMikrogeografiecsv\u001b[0m    EVU_Mikrogeografie.csv   2022-02-17T20:38:32.000Z   data_asset                []     0   \n",
      "\u001b[36;1mdata_asset.EVUStammdatencsv\u001b[0m        EVU_Stammdaten.csv       2022-02-17T20:38:30.000Z   data_asset                []     0   \n",
      "\u001b[36;1mmachine-learning-stream.EVUChurn\u001b[0m   EVU_Churn                2022-02-17T20:40:04.000Z   machine-learning-stream   []     0   \n",
      "\u001b[36;1mdata_asset.airlinesas7bdat\u001b[0m         airline.sas7bdat         2022-03-24T14:52:00.000Z   data_asset                []     0   \n",
      "\u001b[36;1mwml_model.CHAID\u001b[0m                    CHAID                    2022-02-17T20:43:49.000Z   wml_model                 []     0   \n",
      "\u001b[36;1mwml_model.DecisionTreeV1\u001b[0m           Decision Tree V1         2022-02-17T21:51:10.000Z   wml_model                 []     0   \n",
      "\u001b[36;1mwml_model.spssscoring\u001b[0m              spss_scoring             2022-03-24T13:52:02.000Z   wml_model                 []     0   \n",
      "\u001b[36;1mdata_asset.churnnotebook\u001b[0m           churn_notebook           2022-03-24T17:37:25.000Z   data_asset                []     0   \n"
     ]
    }
   ],
   "source": [
    "# List all the assets in your project\n",
    "! cpdctl asset search --project-id {PROJECT_ID} --type-name asset --query \"*:*\""
   ]
  },
  {
   "cell_type": "code",
   "execution_count": 98,
   "metadata": {
    "id": "7e92821d-4e7d-4488-946e-989511d1b8fe",
    "tags": []
   },
   "outputs": [
    {
     "name": "stdout",
     "output_type": "stream",
     "text": [
      "'SPSS Scoring' asset ID is: wml_model.spssscoring\n"
     ]
    }
   ],
   "source": [
    "#Get Model ID\n",
    "result = ! cpdctl asset search --project-id {PROJECT_ID} --type-name wml_model --query \"asset.name:spss_scoring\" --output json --jmes-query \"results[0].metadata.asset_id\" --raw-output\n",
    "MODEL_ID = result.s\n",
    "print(\"'SPSS Scoring' asset ID is: {}\".format(MODEL_ID))"
   ]
  },
  {
   "cell_type": "code",
   "execution_count": 16,
   "metadata": {
    "id": "b21ce4ff-e6fd-4d13-907e-d2cc27e9e9b2",
    "tags": []
   },
   "outputs": [],
   "source": [
    "###########################################"
   ]
  },
  {
   "cell_type": "markdown",
   "metadata": {
    "id": "f1defa73-f2cf-4181-b5e3-cd11d5aa8754"
   },
   "source": [
    "### Promote Asset to Deployment Space"
   ]
  },
  {
   "cell_type": "code",
   "execution_count": 99,
   "metadata": {
    "id": "609f4e04-bb0b-4fd8-bd01-4498ac1f7522",
    "tags": []
   },
   "outputs": [
    {
     "name": "stdout",
     "output_type": "stream",
     "text": [
      "...\n",
      "\u001b[1mID\u001b[0m                                     \u001b[1mName\u001b[0m              \u001b[1mCreated\u001b[0m                    \u001b[1mDescription\u001b[0m   \u001b[1mState\u001b[0m    \u001b[1mTags\u001b[0m   \n",
      "\u001b[36;1m68d65b57-9da2-4e24-93be-87f2eb2f2140\u001b[0m   Credit Default    2021-10-28T22:04:01.776Z                 active   []   \n",
      "\u001b[36;1m8a39af86-076d-47f3-a9a5-0927361cd430\u001b[0m   Baufinanzierung   2021-10-29T12:45:35.851Z                 active   []   \n",
      "\u001b[36;1m30093262-7220-496f-997a-096be73471cf\u001b[0m   Churn_Analyse     2021-11-22T12:14:12.660Z                 active   []   \n",
      "\u001b[36;1mf2124828-0125-45e8-8dda-e8b8ad142fb6\u001b[0m   Test              2022-02-17T20:51:38.662Z                 active   []   \n",
      "\u001b[36;1m26a07052-33d7-40ba-8415-e0f69e8e5ac6\u001b[0m   GIT               2022-03-24T17:19:04.392Z                 active   []   \n"
     ]
    }
   ],
   "source": [
    "#Show Deployment Spaces\n",
    "! cpdctl space list"
   ]
  },
  {
   "cell_type": "code",
   "execution_count": 84,
   "metadata": {
    "id": "8f5c5bd7-b07e-4da3-b720-4ff2af5ba676",
    "tags": []
   },
   "outputs": [],
   "source": [
    "#! cpdctl space create --name cpdctl-demo-space\n",
    "#! cpdctl space list"
   ]
  },
  {
   "cell_type": "code",
   "execution_count": 109,
   "metadata": {
    "id": "7724f232-e151-4fc3-bb44-4b5d9a3f4bb1",
    "tags": []
   },
   "outputs": [],
   "source": [
    "# Default Space ID setzen\n",
    "space_id = '26a07052-33d7-40ba-8415-e0f69e8e5ac6 '"
   ]
  },
  {
   "cell_type": "code",
   "execution_count": 110,
   "metadata": {
    "id": "5c23f656-44d3-4300-8b56-031c4254a524",
    "tags": []
   },
   "outputs": [
    {
     "name": "stdout",
     "output_type": "stream",
     "text": [
      "...\n",
      "\u001b[1mPath\u001b[0m                   \u001b[1mType\u001b[0m     \u001b[1mSize\u001b[0m     \u001b[1mEtag\u001b[0m                    \u001b[1mLast Modified\u001b[0m   \n",
      "\u001b[36;1mchurn_notebook.ipynb\u001b[0m   file     175412   W/\"2ad34-17fbcf1a450\"   Thu, 24 Mar 2022 17:20:27 GMT   \n",
      "\u001b[36;1mwml_model\u001b[0m              folder   1        W/\"1-17fbd0b63f1\"       Thu, 24 Mar 2022 17:48:34 GMT   \n"
     ]
    }
   ],
   "source": [
    "# Alle Assets im Space listen\n",
    "! cpdctl asset file list --space-id {space_id}"
   ]
  },
  {
   "cell_type": "code",
   "execution_count": 111,
   "metadata": {
    "id": "24a7efd2-54ec-4b21-8b0d-2bd540af083c",
    "tags": []
   },
   "outputs": [],
   "source": [
    "remote_file_path = \"churn_notebook.ipynb\"\n",
    "local_file_path = \"churn_notebook.ipynb\""
   ]
  },
  {
   "cell_type": "code",
   "execution_count": 112,
   "metadata": {
    "id": "2b40cb84-ef21-406a-8b4f-19854c3043a5",
    "tags": []
   },
   "outputs": [
    {
     "name": "stdout",
     "output_type": "stream",
     "text": [
      "...\n",
      "\u001b[32;1mOK\u001b[0m\n"
     ]
    }
   ],
   "source": [
    "! cpdctl asset file upload --path {remote_file_path} --file {local_file_path} --space-id {space_id}"
   ]
  },
  {
   "cell_type": "code",
   "execution_count": 113,
   "metadata": {
    "id": "7f4fde63-59ae-4ade-bbdb-386ce2f3fa8d",
    "tags": []
   },
   "outputs": [
    {
     "name": "stdout",
     "output_type": "stream",
     "text": [
      "...\n",
      "\u001b[1mPath\u001b[0m                   \u001b[1mType\u001b[0m     \u001b[1mSize\u001b[0m     \u001b[1mEtag\u001b[0m                    \u001b[1mLast Modified\u001b[0m   \n",
      "\u001b[36;1mchurn_notebook.ipynb\u001b[0m   file     175412   W/\"2ad34-17fbd1ae63e\"   Thu, 24 Mar 2022 18:05:31 GMT   \n",
      "\u001b[36;1mwml_model\u001b[0m              folder   1        W/\"1-17fbd0b63f1\"       Thu, 24 Mar 2022 17:48:34 GMT   \n"
     ]
    }
   ],
   "source": [
    "# Alle Assets im Space anzeigen\n",
    "! cpdctl asset file list --space-id {space_id}"
   ]
  },
  {
   "cell_type": "code",
   "execution_count": null,
   "metadata": {
    "id": "9d019dd2-609f-417d-9e41-89cabd5eb418"
   },
   "outputs": [],
   "source": []
  },
  {
   "cell_type": "markdown",
   "metadata": {
    "id": "ef5c2b48-2d08-49ea-b153-641d89d12472"
   },
   "source": [
    "xxxxxxxxxxxxxxxxxxxxxxxxxxxxx"
   ]
  },
  {
   "cell_type": "code",
   "execution_count": null,
   "metadata": {
    "id": "37e16518-4b53-459a-8bec-0188958d623f"
   },
   "outputs": [],
   "source": []
  },
  {
   "cell_type": "code",
   "execution_count": null,
   "metadata": {
    "id": "db9d8a88-a026-43c9-8756-979274566a4e"
   },
   "outputs": [],
   "source": []
  },
  {
   "cell_type": "code",
   "execution_count": null,
   "metadata": {
    "id": "49d2347a-dd5f-4fa7-8bb3-fa525f04524e"
   },
   "outputs": [],
   "source": []
  },
  {
   "cell_type": "code",
   "execution_count": null,
   "metadata": {
    "id": "b99cd4de-640d-4632-9cce-ca62dcf04006"
   },
   "outputs": [],
   "source": []
  },
  {
   "cell_type": "code",
   "execution_count": 45,
   "metadata": {
    "id": "64647bbd-3bcc-4e17-8e0c-dee13af2d3ec",
    "tags": []
   },
   "outputs": [
    {
     "name": "stdout",
     "output_type": "stream",
     "text": [
      "notebook id in project: Error: Bad Request Usage:   cpdctl asset search --type-name TYPE-NAME --query QUERY [--bookmark BOOKMARK] [--counts COUNTS] [--drilldown DRILLDOWN] [--include INCLUDE] [--limit LIMIT] [--sort SORT] [--x-open-id-connect-id-token X-OPEN-ID-CONNECT-ID-TOKEN] [--catalog-id CATALOG-ID] [--project-id PROJECT-ID] [--space-id SPACE-ID]  Flags:       --bookmark string                     Bookmark for results pagination.       --catalog-id string                   You must provide either a catalog id, a project id, or a space id, but not more than one.       --counts string                       cams-search-counts-flag-description       --cpd-scope string                    CPD space or project or catalog scope, e.g. 'cpd://default-context/spaces/7bccdda4-9752-4f37-868e-891de6c48135'       --drilldown string                    cams-search-drilldown-flag-description   -h, --help                                help for search       --include string                      entity.       --limit int                           cams-search-limit-flag-description       --project-id string                   You must provide either a catalog id, a project id, or a space id, but not more than one.       --query string                        Lucene query.       --sort string                         Sort order for the query.       --space-id string                     You must provide either a catalog id, a project id, or a space id, but not more than one.       --type-name string                    Asset Type name (eg: data_asset).       --x-open-id-connect-id-token string   (DEPRECATED) X-OpenID-Connect-ID-Token.  Global Flags:       --context string       Name of the configuration context to use       --cpd-config string    Configuration file path       --cpdconfig string     [Deprecated] Use --cpd-config instead   -j, --jmes-query string    Provide a JMESPath query to customize output.       --output string        Choose an output format - can be 'json', 'yaml', or 'table'. (default \"table\")       --output-file string   If set, all output is redirected to a file of the given path       --output-path string   If set, all output is redirected to a file of the given path (DEPRECATED: use --output-file instead)   -q, --quiet                Suppresses verbose messages.       --raw-output           If set to true, single values in JSON output mode are not surrounded by quotes  Bad Request\n"
     ]
    }
   ],
   "source": [
    "#Show notebook in GUI\n",
    "result = ! cpdctl notebook create --file-reference {remote_file_path} --name {file_name} --space-id {space_id} --output json -j \"metadata.asset_id\" --raw-output\n",
    "cnotebook_id_in_project = result.s\n",
    "print(\"notebook id in project: {}\".format(notebook_id_in_project))"
   ]
  },
  {
   "cell_type": "code",
   "execution_count": null,
   "metadata": {
    "id": "15247f15-79d3-4f52-8a32-6b678daf617a"
   },
   "outputs": [],
   "source": []
  }
 ],
 "metadata": {
  "kernelspec": {
   "display_name": "Python 3.8",
   "language": "python",
   "name": "python3"
  },
  "language_info": {
   "codemirror_mode": {
    "name": "ipython",
    "version": 3
   },
   "file_extension": ".py",
   "mimetype": "text/x-python",
   "name": "python",
   "nbconvert_exporter": "python",
   "pygments_lexer": "ipython3",
   "version": "3.8.11"
  },
  "pycharm": {
   "stem_cell": {
    "cell_type": "raw",
    "metadata": {
     "collapsed": false
    },
    "source": []
   }
  }
 },
 "nbformat": 4,
 "nbformat_minor": 4
}
