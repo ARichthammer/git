{
 "cells": [
  {
   "cell_type": "markdown",
   "metadata": {
    "id": "cd474d50-cce0-43da-8912-ba3c08b6eb59"
   },
   "source": [
    "# CPDCTL Samples for Notebooks and Environments in Spaces"
   ]
  },
  {
   "cell_type": "markdown",
   "metadata": {
    "id": "79cecffd-15bb-4d40-86b7-8a882df86461"
   },
   "source": [
    "CPDCTL is a command-line interface (CLI) you can use to manage the lifecycle of notebooks. By using the notebook CLI, you can automate the flow for creating notebooks and running notebook jobs, as well as promoting notebooks from a project to a space.   \n",
    "\n",
    "This notebook begins by showing you how to install and configure CPDCTL and is then split up into three sections with examples of how to use the commands for:\n",
    "\n",
    "- Creating notebooks and running notebook jobs\n",
    "- Creating code packages and running code package jobs\n",
    "- Promoting notebooks from a project to a space"
   ]
  },
  {
   "cell_type": "markdown",
   "metadata": {
    "id": "250972f1-4746-46f8-b234-193e2d9e17cc"
   },
   "source": [
    "## Table of Contents"
   ]
  },
  {
   "cell_type": "markdown",
   "metadata": {
    "id": "06ff5011-3afe-4484-980a-6af22f7b9685"
   },
   "source": [
    "[1. Installing and configuring CPDCTL](#part1)\n",
    "- [1.1 Installing the latest version of CPDCTL](#part1.1)\n",
    "- [1.2 Adding CPD cluster configuration settings](#part1.2)\n",
    "\n",
    "[2. Demo 1: Creating a notebook asset and running a job](#part2)\n",
    "- [2.1 Creating a notebook asset](#part2.1)\n",
    "- [2.2 Running a job](#part2.2)\n",
    "\n",
    "[3. Demo 2: Creating a code package asset and running a job](#part3)\n",
    "- [3.1 Creating a code package asset](#part3.1)\n",
    "- [3.2 Running a job](#part3.2)\n",
    "\n",
    "[4. Demo 3: Promoting a notebook from a project to a space](#part4)"
   ]
  },
  {
   "cell_type": "markdown",
   "metadata": {
    "id": "0cf6c43d-c3a2-4998-9b87-941906a6911b"
   },
   "source": [
    "## Before you begin\n",
    "Import the following libraries:"
   ]
  },
  {
   "cell_type": "code",
   "execution_count": 2,
   "metadata": {
    "id": "0ef7e5c4-0c87-433b-a61b-20f0ff5436c9",
    "tags": []
   },
   "outputs": [],
   "source": [
    "import base64\n",
    "import json\n",
    "import os\n",
    "import requests\n",
    "import platform\n",
    "import tarfile\n",
    "import zipfile\n",
    "from IPython.core.display import display, HTML"
   ]
  },
  {
   "cell_type": "markdown",
   "metadata": {
    "id": "b9429f5b-aa69-4977-9acb-e7ea2864f023"
   },
   "source": [
    "##  1. Installing and configuring CPDCTL <a class=\"anchor\" id=\"part1\"></a>"
   ]
  },
  {
   "cell_type": "markdown",
   "metadata": {
    "id": "b3ae686f-3d06-4116-9142-1145d790636d"
   },
   "source": [
    "### 1.1 Installing the latest version of CPDCTL <a class=\"anchor\" id=\"part1.1\"></a>"
   ]
  },
  {
   "cell_type": "markdown",
   "metadata": {
    "id": "8f4283a7-d5bc-4418-9e36-d6f5bc2f8dfe"
   },
   "source": [
    "To use the notebook and environment CLI commands, you need to install CPDCTL. Download the binary from the [CPDCTL GitHub respository](https://github.com/IBM/cpdctl/releases)."
   ]
  },
  {
   "cell_type": "markdown",
   "metadata": {
    "id": "ac992f0b-02ac-49eb-9e7f-4978f4138151"
   },
   "source": [
    "Download the binary and then display the version number:"
   ]
  },
  {
   "cell_type": "code",
   "execution_count": 3,
   "metadata": {
    "id": "b42e7801-4777-45ef-a073-177386d8ca69",
    "tags": []
   },
   "outputs": [
    {
     "data": {
      "text/html": [
       "<code>cpdctl</code> binary downloaded from: <a href=\"https://github.com/IBM/cpdctl/releases/download/v1.1.98/cpdctl_linux_amd64.tar.gz\">cpdctl_linux_amd64.tar.gz</a>"
      ],
      "text/plain": [
       "<IPython.core.display.HTML object>"
      ]
     },
     "metadata": {},
     "output_type": "display_data"
    }
   ],
   "source": [
    "PLATFORM = platform.system().lower()\n",
    "CPDCTL_ARCH = \"{}_amd64\".format(PLATFORM)\n",
    "CPDCTL_RELEASES_URL=\"https://api.github.com/repos/IBM/cpdctl/releases\"\n",
    "CWD = os.getcwd()\n",
    "PATH = os.environ['PATH']\n",
    "CPD_CONFIG = os.path.join(CWD, '.cpdctl.config.yml')\n",
    "\n",
    "response = requests.get(CPDCTL_RELEASES_URL)\n",
    "assets = response.json()[0]['assets']\n",
    "platform_asset = next(a for a in assets if CPDCTL_ARCH in a['name'])\n",
    "cpdctl_url = platform_asset['url']\n",
    "cpdctl_file_name = platform_asset['name']\n",
    "        \n",
    "response = requests.get(cpdctl_url, headers={'Accept': 'application/octet-stream'})\n",
    "with open(cpdctl_file_name, 'wb') as f:\n",
    "    f.write(response.content)\n",
    "    \n",
    "display(HTML('<code>cpdctl</code> binary downloaded from: <a href=\"{}\">{}</a>'.format(platform_asset['browser_download_url'], platform_asset['name'])))"
   ]
  },
  {
   "cell_type": "code",
   "execution_count": 4,
   "metadata": {
    "id": "f720756d-3423-4bf6-935c-5710e14edfb1",
    "tags": []
   },
   "outputs": [],
   "source": [
    "%%capture\n",
    "\n",
    "%env PATH={CWD}:{PATH}\n",
    "%env CPD_CONFIG={CPD_CONFIG}"
   ]
  },
  {
   "cell_type": "code",
   "execution_count": 5,
   "metadata": {
    "id": "3def4b7b-5730-4fee-8bcf-74b5709afc49",
    "tags": []
   },
   "outputs": [
    {
     "name": "stdout",
     "output_type": "stream",
     "text": [
      "cpdctl version: 1.1.98\n"
     ]
    }
   ],
   "source": [
    "if cpdctl_file_name.endswith('tar.gz'):\n",
    "    with tarfile.open(cpdctl_file_name, \"r:gz\") as tar:\n",
    "        tar.extractall()\n",
    "elif cpdctl_file_name.endswith('zip'):\n",
    "    with zipfile.ZipFile(cpdctl_file_name, 'r') as zf:\n",
    "        zf.extractall()\n",
    "\n",
    "if CPD_CONFIG and os.path.exists(CPD_CONFIG):\n",
    "    os.remove(CPD_CONFIG)\n",
    "    \n",
    "version_r = ! cpdctl version\n",
    "CPDCTL_VERSION = version_r.s\n",
    "\n",
    "print(\"cpdctl version: {}\".format(CPDCTL_VERSION))"
   ]
  },
  {
   "cell_type": "markdown",
   "metadata": {
    "id": "dbf41c4b-59b0-463a-aff2-9edf50bc3f10"
   },
   "source": [
    "### 1.2  Adding CPD cluster configuration settings <a class=\"anchor\" id=\"part1.2\"></a>"
   ]
  },
  {
   "cell_type": "markdown",
   "metadata": {
    "id": "e4cf96de-9a9b-4cde-ad45-dd5e632c9fbd"
   },
   "source": [
    "Before you can use CPDCTL, you need to add configuration settings. You only need to configure these settings once for the same IBM Cloud Pak for Data (CPD) user and cluster. Begin by entering your CPD credentials and the URL to the CPD cluster:"
   ]
  },
  {
   "cell_type": "code",
   "execution_count": 6,
   "metadata": {
    "id": "5ec61fd3-84b0-40a6-a195-11cc9fff6d5d",
    "tags": []
   },
   "outputs": [],
   "source": [
    "CPD_USER_NAME = 'ritchie'\n",
    "CPD_USER_PASSWORD = 'Enigma'\n",
    "CPD_URL = 'https://cpd-cp4d.apps.10.99.103.31.nip.io/zen/'"
   ]
  },
  {
   "cell_type": "markdown",
   "metadata": {
    "id": "357f89fd-c42b-4fc8-9276-10c6f34117ef"
   },
   "source": [
    "Add \"cpd_user\" user to the cpdctl configuration:"
   ]
  },
  {
   "cell_type": "code",
   "execution_count": 7,
   "metadata": {
    "id": "3c2ea730-5706-4a3e-9f62-a679e6c79688",
    "tags": []
   },
   "outputs": [],
   "source": [
    "! cpdctl config user set cpd_user --username {CPD_USER_NAME} --password {CPD_USER_PASSWORD}"
   ]
  },
  {
   "cell_type": "markdown",
   "metadata": {
    "id": "2bc1f58c-f1ba-4ea8-9078-320292734ee2"
   },
   "source": [
    "Add \"cpd\" cluster to the cpdctl configuration:"
   ]
  },
  {
   "cell_type": "code",
   "execution_count": 8,
   "metadata": {
    "id": "72703a9c-2f6d-4ee6-aa38-7deef889079a",
    "tags": []
   },
   "outputs": [
    {
     "name": "stdout",
     "output_type": "stream",
     "text": [
      "Failed to check CP4D instance version. Verify profile URL \"https://cpd-cp4d.apps.10.99.103.31.nip.io/zen/\".\n",
      "Get \"https://cpd-cp4d.apps.10.99.103.31.nip.io/zen/diag\": dial tcp: lookup cpd-cp4d.apps.10.99.103.31.nip.io on 172.30.0.10:53: no such host\n"
     ]
    }
   ],
   "source": [
    "! cpdctl config profile set cpd --url {CPD_URL}"
   ]
  },
  {
   "cell_type": "markdown",
   "metadata": {
    "id": "ed859d69-6848-47dc-9d01-2ece10f7fa61"
   },
   "source": [
    "Add \"cpd\" context to the cpdctl configuration:"
   ]
  },
  {
   "cell_type": "code",
   "execution_count": 9,
   "metadata": {
    "id": "0a50c43a-6b52-4191-a016-87d8c4402d94",
    "tags": []
   },
   "outputs": [],
   "source": [
    "! cpdctl config context set cpd --profile cpd --user cpd_user"
   ]
  },
  {
   "cell_type": "markdown",
   "metadata": {
    "id": "cfb31b66-deed-4f4f-9751-71dc18007063"
   },
   "source": [
    "List available contexts:"
   ]
  },
  {
   "cell_type": "code",
   "execution_count": 10,
   "metadata": {
    "id": "a5f94036-0285-47b3-9554-3fe2f4c449a3",
    "tags": []
   },
   "outputs": [
    {
     "name": "stdout",
     "output_type": "stream",
     "text": [
      "\u001b[1mName\u001b[0m                          \u001b[1mProfile\u001b[0m                       \u001b[1mUser\u001b[0m                       \u001b[1mCurrent\u001b[0m   \n",
      "\u001b[36;1minClusterEnvironmentContext\u001b[0m   inClusterEnvironmentProfile   inClusterEnvironmentUser   *   \n"
     ]
    }
   ],
   "source": [
    "! cpdctl config context list"
   ]
  },
  {
   "cell_type": "markdown",
   "metadata": {
    "id": "f2faf02f-d156-4f08-8826-0ae1fe2de02e"
   },
   "source": [
    "Switch to the context you just created if it is not marked in the `Current` column:"
   ]
  },
  {
   "cell_type": "code",
   "execution_count": 14,
   "metadata": {
    "id": "c0451e5c-ab0b-4f02-8fac-0b497a05f916",
    "tags": []
   },
   "outputs": [
    {
     "name": "stdout",
     "output_type": "stream",
     "text": [
      "Switched to context \"inClusterEnvironmentContext\".\n"
     ]
    }
   ],
   "source": [
    "! cpdctl config context use inClusterEnvironmentContext"
   ]
  },
  {
   "cell_type": "markdown",
   "metadata": {
    "id": "660dc0d0-7526-43d0-8c33-930ca002e4ad"
   },
   "source": [
    "List available spaces in context:"
   ]
  },
  {
   "cell_type": "code",
   "execution_count": 15,
   "metadata": {
    "id": "be264d9d-63dc-4ed7-90b1-21dfb7ff1bf0",
    "tags": []
   },
   "outputs": [
    {
     "name": "stdout",
     "output_type": "stream",
     "text": [
      "...\n",
      "\u001b[1mID\u001b[0m                                     \u001b[1mName\u001b[0m              \u001b[1mCreated\u001b[0m                    \u001b[1mDescription\u001b[0m   \u001b[1mState\u001b[0m    \u001b[1mTags\u001b[0m   \n",
      "\u001b[36;1m68d65b57-9da2-4e24-93be-87f2eb2f2140\u001b[0m   Credit Default    2021-10-28T22:04:01.776Z                 active   []   \n",
      "\u001b[36;1m8a39af86-076d-47f3-a9a5-0927361cd430\u001b[0m   Baufinanzierung   2021-10-29T12:45:35.851Z                 active   []   \n",
      "\u001b[36;1m30093262-7220-496f-997a-096be73471cf\u001b[0m   Churn_Analyse     2021-11-22T12:14:12.660Z                 active   []   \n",
      "\u001b[36;1mf2124828-0125-45e8-8dda-e8b8ad142fb6\u001b[0m   Test              2022-02-17T20:51:38.662Z                 active   []   \n"
     ]
    }
   ],
   "source": [
    "! cpdctl space list"
   ]
  },
  {
   "cell_type": "markdown",
   "metadata": {
    "id": "c00adfac-dc91-49b8-b290-e5617038605d"
   },
   "source": [
    "Choose the space in which you want to work:"
   ]
  },
  {
   "cell_type": "code",
   "execution_count": 16,
   "metadata": {
    "id": "85a5b3a3-62b1-4c89-9f77-78e1c1a3f30a",
    "tags": []
   },
   "outputs": [],
   "source": [
    "#result = ! cpdctl space list --output json -j \"(resources[].metadata.id)[0]\" --raw-output\n",
    "#space_id = result.s\n",
    "#print(\"space id: {}\".format(space_id))\n",
    "\n",
    "# You can also specify your space id directly:\n",
    "space_id = \"f2124828-0125-45e8-8dda-e8b8ad142fb6\""
   ]
  },
  {
   "cell_type": "markdown",
   "metadata": {
    "id": "c8f159f5-dd6f-41b5-a4f5-2465ba5061c4"
   },
   "source": [
    "## 2. Demo 1: Creating a notebook asset and running a job <a class=\"anchor\" id=\"part2\"></a>"
   ]
  },
  {
   "cell_type": "markdown",
   "metadata": {
    "id": "6dad39f6-318f-4380-bc5b-bc3caadb5446"
   },
   "source": [
    "Before starting with this section, ensure that you have run the cells in [Section 1](#part1) and specified the ID of the space in which you will work."
   ]
  },
  {
   "cell_type": "markdown",
   "metadata": {
    "id": "8d40bffa-f27d-4324-87eb-f40bb9a22a5d"
   },
   "source": [
    "Suppose you have a Jupyter Notebook (.ipynb) file on your local system and you would like to run the code in the file as a job on a CPD cluster. This section shows you how to create a notebook asset and run a job on a CPD cluster. "
   ]
  },
  {
   "cell_type": "markdown",
   "metadata": {
    "id": "313be233-fae1-429d-ba0c-e47754061ea8"
   },
   "source": [
    "### 2.1 Creating a notebook asset<a class=\"anchor\" id=\"part2.1\"></a>"
   ]
  },
  {
   "cell_type": "markdown",
   "metadata": {
    "id": "72648897-0a89-40ab-a1eb-7f80a20a7a14"
   },
   "source": [
    "First of all, you need to create a notebook asset in your space. To create a notebook asset you need to specify:\n",
    "- The environment in which your notebook is to run\n",
    "- A notebook file (.ipynb)."
   ]
  },
  {
   "cell_type": "markdown",
   "metadata": {
    "id": "ef6a835b-7ca0-45e6-a71d-a32fb068923a"
   },
   "source": [
    "List all the environments in your space, filter them by their display name and get the ID of the environment in which your notebook will be run:"
   ]
  },
  {
   "cell_type": "code",
   "execution_count": 17,
   "metadata": {
    "id": "b4f71c79-c770-4755-a6de-9c1eba3dc6e6",
    "tags": []
   },
   "outputs": [],
   "source": [
    "environment_name = \"Default Python 3.8\"\n",
    "query_string = \"(resources[?entity.environment.display_name == '{}'].metadata.asset_id)[0]\".format(environment_name)"
   ]
  },
  {
   "cell_type": "code",
   "execution_count": 18,
   "metadata": {
    "id": "630c0217-ae4a-4769-8e6b-47d428bce6ad",
    "tags": []
   },
   "outputs": [
    {
     "name": "stdout",
     "output_type": "stream",
     "text": [
      "environment id: jupconda38-f2124828-0125-45e8-8dda-e8b8ad142fb6\n"
     ]
    }
   ],
   "source": [
    "result = ! cpdctl environment list --space-id {space_id} --output json -j \"{query_string}\" --raw-output\n",
    "env_id = result.s\n",
    "print(\"environment id: {}\".format(env_id))\n",
    "\n",
    "# You can also specify your environment id directly:\n",
    "# env_id = \"Your environment ID\""
   ]
  },
  {
   "cell_type": "markdown",
   "metadata": {
    "id": "3dae26ff-65f3-4a32-b096-138dcf3a7158"
   },
   "source": [
    "Upload the .ipynb file:"
   ]
  },
  {
   "cell_type": "code",
   "execution_count": 25,
   "metadata": {
    "id": "f7defe26-f627-4e12-99ed-b38115beba8c",
    "tags": []
   },
   "outputs": [],
   "source": [
    "remote_file_path = \"notebook/cpdctl-test-notebook.ipynb\"\n",
    "local_file_path = \"cpdctl-test-notebook.ipynb\""
   ]
  },
  {
   "cell_type": "code",
   "execution_count": 26,
   "metadata": {
    "id": "fff04e2c-54fd-484b-951c-dac50d1adde8",
    "tags": []
   },
   "outputs": [
    {
     "name": "stdout",
     "output_type": "stream",
     "text": [
      "...\n",
      "\u001b[31;1mFAILED\u001b[0m\n",
      "Error opening file 'cpdctl-test-notebook.ipynb':\n",
      "open cpdctl-test-notebook.ipynb: no such file or directory\n",
      "\n"
     ]
    }
   ],
   "source": [
    "! cpdctl asset file upload --path {remote_file_path} --file {local_file_path} --space-id {space_id}"
   ]
  },
  {
   "cell_type": "markdown",
   "metadata": {
    "id": "4d16a111-b7e6-46ad-9203-c74d730f284a"
   },
   "source": [
    "Create a notebook asset:"
   ]
  },
  {
   "cell_type": "code",
   "execution_count": 21,
   "metadata": {
    "id": "48fc8439-b7c7-41d2-b27b-5437d1396b88",
    "tags": []
   },
   "outputs": [],
   "source": [
    "file_name = \"cpdctl-test-notebook.ipynb\"\n",
    "runtime = {\n",
    "    'environment': env_id\n",
    "}\n",
    "runtime_json = json.dumps(runtime)"
   ]
  },
  {
   "cell_type": "code",
   "execution_count": 22,
   "metadata": {
    "id": "3887cc69-0e76-40a7-b176-ab51bc045a81",
    "tags": []
   },
   "outputs": [
    {
     "name": "stdout",
     "output_type": "stream",
     "text": [
      "notebook id: FAILED   trace                                  code                                              message    f6cb96d5-02ba-4910-9344-cebe578d5e9a   asset_attachment_create_prerequisites_not_found   Could not create attachment for notebook asset. CAMS error code: dependent_service_error. CAMS error message: NGPDL4108E: Object does not exist. key='notebook/cpdctl-test-notebook.ipynb'   \n"
     ]
    }
   ],
   "source": [
    "result = ! cpdctl notebook create --file-reference {remote_file_path} --name {file_name} --space {space_id} --runtime '{runtime_json}' --output json -j \"metadata.asset_id\" --raw-output\n",
    "notebook_id = result.s\n",
    "print(\"notebook id: {}\".format(notebook_id))"
   ]
  },
  {
   "cell_type": "markdown",
   "metadata": {
    "id": "e9928b46-456e-4f18-8689-2b7d42e9fba1"
   },
   "source": [
    "### 2.2 Running a job <a class=\"anchor\" id=\"part2.2\"></a>"
   ]
  },
  {
   "cell_type": "markdown",
   "metadata": {
    "id": "b22ebe15-d685-47f8-85bb-8e9d7b0afbf1"
   },
   "source": [
    "To create a notebook job, you need to give your job a name, add a description, and pass the notebook ID and environment ID you determined in [2.1](#part2.1). Additionally, you can add environment variables that will be used in your notebook:"
   ]
  },
  {
   "cell_type": "code",
   "execution_count": 28,
   "metadata": {
    "id": "61d7e5c3-b0e7-46ac-9746-59ecf1432619",
    "tags": []
   },
   "outputs": [],
   "source": [
    "job_name = \"cpdctl-test-job\"\n",
    "job = {\n",
    "    'asset_ref': notebook_id, \n",
    "    'configuration': {\n",
    "        'env_id': env_id, \n",
    "        'env_variables': [\n",
    "            'foo=1', \n",
    "            'bar=2'\n",
    "        ]\n",
    "    }, \n",
    "    'description': 'my job', \n",
    "    'name': job_name\n",
    "}\n",
    "job_json = json.dumps(job)"
   ]
  },
  {
   "cell_type": "code",
   "execution_count": 29,
   "metadata": {
    "id": "d12b2328-8f49-44ad-9a3b-67d30cd59415",
    "tags": []
   },
   "outputs": [
    {
     "name": "stdout",
     "output_type": "stream",
     "text": [
      "job id: FAILED                  Code:      404    Message:   An error occurred while retrieving the asset FAILED   trace                                  code                                              message    f6cb96d5-02ba-4910-9344-cebe578d5e9a   asset_attachment_create_prerequisites_not_found   Could not create attachment for notebook asset. CAMS error code: dependent_service_error. CAMS error message: NGPDL4108E: Object does not exist. key=notebook/cpdctl-test-notebook.ipynb   -1645741334933.    Error:     Not Found    Reason:    HTTP 404 Not Found   \n"
     ]
    }
   ],
   "source": [
    "result = ! cpdctl job create --job '{job_json}' --space-id {space_id} --output json -j \"metadata.asset_id\" --raw-output\n",
    "job_id = result.s\n",
    "print(\"job id: {}\".format(job_id))"
   ]
  },
  {
   "cell_type": "markdown",
   "metadata": {
    "id": "0e8f971b-1667-4d7f-b827-09acd9728539"
   },
   "source": [
    "Run a notebook job:"
   ]
  },
  {
   "cell_type": "code",
   "execution_count": 30,
   "metadata": {
    "id": "5701f3e8-20ba-4174-9fd8-c65c87b8bc7f",
    "tags": []
   },
   "outputs": [],
   "source": [
    "job_run = {\n",
    "    'configuration': {\n",
    "        'env_variables': [\n",
    "            'key1=value1', \n",
    "            'key2=value2'\n",
    "        ]\n",
    "    }\n",
    "}\n",
    "job_run_json = json.dumps(job_run)"
   ]
  },
  {
   "cell_type": "code",
   "execution_count": 31,
   "metadata": {
    "id": "2a4d8c7b-10e4-4a0b-8c39-8451674191e5",
    "tags": []
   },
   "outputs": [
    {
     "name": "stdout",
     "output_type": "stream",
     "text": [
      "run id: Error: unknown shorthand flag: '1' in -1645741334933. Usage:   cpdctl job run create --job-id JOB-ID --job-run JOB-RUN [--project-id PROJECT-ID] [--space-id SPACE-ID]  Flags:       --async               Run the command asynchronously. By default it waits for the processing to finish.       --cpd-scope string    CPD space or project scope, e.g. 'cpd://default-context/spaces/7bccdda4-9752-4f37-868e-891de6c48135'   -h, --help                help for create       --job string          Job definition in the same format as in 'job create' command. If set, the job is created prior to starting the job run unless a job with the specified name already exists. The flags --job and -job-id are mutually exclusive.       --job-id string       The ID of the job to use. Each job has a unique ID.       --job-run string      Configuration for the job run.       --project-id string   The ID of the project to use. project_id or space_id is required.       --space-id string     The ID of the space to use. project_id or space_id is required.  Global Flags:       --context string       Name of the configuration context to use       --cpd-config string    Configuration file path       --cpdconfig string     [Deprecated] Use --cpd-config instead   -j, --jmes-query string    Provide a JMESPath query to customize output.       --output string        Choose an output format - can be 'json', 'yaml', or 'table'. (default \"table\")       --output-file string   If set, all output is redirected to a file of the given path       --output-path string   If set, all output is redirected to a file of the given path (DEPRECATED: use --output-file instead)   -q, --quiet                Suppresses verbose messages.       --raw-output           If set to true, single values in JSON output mode are not surrounded by quotes  unknown shorthand flag: '1' in -1645741334933.\n"
     ]
    }
   ],
   "source": [
    "result = ! cpdctl job run create --space-id {space_id} --job-id {job_id} --job-run '{job_run_json}' --output json -j \"metadata.asset_id\" --raw-output\n",
    "run_id = result.s\n",
    "print(\"run id: {}\".format(run_id))"
   ]
  },
  {
   "cell_type": "markdown",
   "metadata": {
    "id": "86fb0fdc-19d9-4e71-b81c-b1b34b8356fe"
   },
   "source": [
    "You can see the output of each cell in your .ipynb file by listing job run logs:"
   ]
  },
  {
   "cell_type": "code",
   "execution_count": 23,
   "metadata": {
    "id": "196d8420-26f6-4c7f-8572-8c36d4ada32c",
    "scrolled": true
   },
   "outputs": [
    {
     "name": "stdout",
     "output_type": "stream",
     "text": [
      "...\n",
      "\n",
      "Cell 1:\n",
      "0\n",
      "1\n",
      "4\n",
      "9\n",
      "16\n",
      "\n",
      "\n"
     ]
    }
   ],
   "source": [
    "! cpdctl job run logs --job-id {job_id} --run-id {run_id} --space-id {space_id}"
   ]
  },
  {
   "cell_type": "markdown",
   "metadata": {
    "id": "4f3e7ecc-b51d-499e-a85d-9736f974701c"
   },
   "source": [
    "## 3. Demo 2: Creating a code package asset and running a job <a class=\"anchor\" id=\"part3\"></a>"
   ]
  },
  {
   "cell_type": "markdown",
   "metadata": {
    "id": "0f587a93-a681-4180-a309-b8cb9ad6bf45"
   },
   "source": [
    "Before starting with this section, ensure that you have run the cells in [Section 1](#part1) and specified the ID of the space in which you will work."
   ]
  },
  {
   "cell_type": "markdown",
   "metadata": {
    "id": "383445cf-dc6a-48c5-ad21-0e3d806aef68"
   },
   "source": [
    "A code package is a way of organizing a set of dependent files in a folder structure. For example, a code package can contain a notebook file that calls other notebook files or functions in script files."
   ]
  },
  {
   "cell_type": "markdown",
   "metadata": {
    "id": "27631a9a-f56a-486a-8471-2ea2bd1eb8a0"
   },
   "source": [
    "Suppose you have a ZIP file of this folder structure on your local system and would like to run the code in the folder as a job on a CPD cluster. This section shows you how to create and register a code package asset in a deployment space and run the files in the code package asset as a job."
   ]
  },
  {
   "cell_type": "markdown",
   "metadata": {
    "id": "fb3aa652-1e85-402c-9114-028f6567b5ac"
   },
   "source": [
    "### 3.1 Creating a code package asset<a class=\"anchor\" id=\"part3.1\"></a>"
   ]
  },
  {
   "cell_type": "markdown",
   "metadata": {
    "id": "16ca6135-fb09-4e6f-8da4-4eb6eca36598"
   },
   "source": [
    "Upload the .zip file:"
   ]
  },
  {
   "cell_type": "code",
   "execution_count": 32,
   "metadata": {
    "id": "5a5b2bf1-7197-4371-9497-230b393783f5",
    "tags": []
   },
   "outputs": [],
   "source": [
    "remote_file_path = \"code_package/cpdctl-test-code-package.zip\"\n",
    "local_file_path = \"cpdctl-test-code-package.zip\""
   ]
  },
  {
   "cell_type": "code",
   "execution_count": 33,
   "metadata": {
    "id": "a57063ad-51d7-4e5c-ae62-64ebb9e21e39",
    "tags": []
   },
   "outputs": [
    {
     "name": "stdout",
     "output_type": "stream",
     "text": [
      "...\n",
      "\u001b[31;1mFAILED\u001b[0m\n",
      "Error opening file 'cpdctl-test-code-package.zip':\n",
      "open cpdctl-test-code-package.zip: no such file or directory\n",
      "\n"
     ]
    }
   ],
   "source": [
    "! cpdctl asset file upload --path {remote_file_path} --file {local_file_path} --space-id {space_id}"
   ]
  },
  {
   "cell_type": "markdown",
   "metadata": {
    "id": "3f8a5321-bb98-457d-9533-bb5b734c8637"
   },
   "source": [
    "Create a code package asset. The code package asset has the same name as the ZIP file."
   ]
  },
  {
   "cell_type": "code",
   "execution_count": 39,
   "metadata": {
    "id": "93785141-0a48-44e5-8f29-fb2fb23ba180"
   },
   "outputs": [],
   "source": [
    "os.environ[\"CPDCTL_ENABLE_CODE_PACKAGE\"] = \"true\""
   ]
  },
  {
   "cell_type": "code",
   "execution_count": 41,
   "metadata": {
    "id": "58a5d2d5-d0a6-4965-bba3-341db152a643"
   },
   "outputs": [],
   "source": [
    "file_name = \"cpdctl-test-code-package.zip\""
   ]
  },
  {
   "cell_type": "code",
   "execution_count": 43,
   "metadata": {
    "id": "e109d63e-c07f-4895-a9a7-97f0b2bf3aa3"
   },
   "outputs": [
    {
     "name": "stdout",
     "output_type": "stream",
     "text": [
      "code package id: 5b81c35c-4ccd-4090-993e-62cf5f6dd6d7\n"
     ]
    }
   ],
   "source": [
    "result = ! cpdctl code-package create --file-reference {remote_file_path} --name {file_name} --space-id {space_id} --output json -j \"metadata.asset_id\" --raw-output\n",
    "code_package_id = result.s\n",
    "print(\"code package id: {}\".format(code_package_id))"
   ]
  },
  {
   "cell_type": "markdown",
   "metadata": {
    "id": "b15b8e27-fe2c-4193-8ada-c50d907c3815"
   },
   "source": [
    "### 3.2 Running a job <a class=\"anchor\" id=\"part3.2\"></a>"
   ]
  },
  {
   "cell_type": "markdown",
   "metadata": {
    "id": "6d238a3a-f082-463e-a602-aaaa542ed93a"
   },
   "source": [
    "List all the environments in your space, filter them by their display name and get the ID of the environment in which your code package will be run:"
   ]
  },
  {
   "cell_type": "code",
   "execution_count": 44,
   "metadata": {
    "id": "f38f757c-4269-4446-8ca6-810ec6156eef"
   },
   "outputs": [],
   "source": [
    "environment_name = \"Default Python 3.8\"\n",
    "query_string = \"(resources[?entity.environment.display_name == '{}'].metadata.asset_id)[0]\".format(environment_name)"
   ]
  },
  {
   "cell_type": "code",
   "execution_count": 45,
   "metadata": {
    "id": "d4048da3-5709-4daf-99e8-727db14cced7"
   },
   "outputs": [
    {
     "name": "stdout",
     "output_type": "stream",
     "text": [
      "environment id: jupconda38-0f9bb565-a7d8-409b-baaf-5a56cd343155\n"
     ]
    }
   ],
   "source": [
    "result = ! cpdctl environment list --space-id {space_id} --output json -j \"{query_string}\" --raw-output\n",
    "env_id = result.s\n",
    "print(\"environment id: {}\".format(env_id))\n",
    "\n",
    "# You can also specify your environment id directly:\n",
    "# env_id = \"Your environment ID\""
   ]
  },
  {
   "cell_type": "markdown",
   "metadata": {
    "id": "6a091981-f249-40f7-a43c-9617a6052365"
   },
   "source": [
    "To create a code package job, you need to give your job a name, add a description, set an entrypoint and pass the code package ID and the environment ID. Additionally, you can add environment variables that will be used in your notebook:"
   ]
  },
  {
   "cell_type": "code",
   "execution_count": 46,
   "metadata": {
    "id": "7337e5d6-50e2-4fd0-bed2-b795466b7368"
   },
   "outputs": [],
   "source": [
    "job_name = \"cpdctl-test-code-package-job\"\n",
    "job = {\n",
    "    'asset_ref': code_package_id, \n",
    "    'configuration': {\n",
    "        'env_id': env_id, \n",
    "        'env_variables': [\n",
    "            'foo=1', \n",
    "            'bar=2'\n",
    "        ],\n",
    "        'entrypoint': \"test.ipynb\"\n",
    "    }, \n",
    "    'description': 'my code package job', \n",
    "    'name': job_name\n",
    "}\n",
    "job_json = json.dumps(job)"
   ]
  },
  {
   "cell_type": "code",
   "execution_count": 47,
   "metadata": {
    "id": "d7b2f486-9c83-4e35-b5cf-0ff55b5bb5a6"
   },
   "outputs": [
    {
     "name": "stdout",
     "output_type": "stream",
     "text": [
      "job id: 6506e20b-33a6-4e80-9468-4982b046fb5d\n"
     ]
    }
   ],
   "source": [
    "result = ! cpdctl job create --job '{job_json}' --space-id {space_id} --output json -j \"metadata.asset_id\" --raw-output\n",
    "job_id = result.s\n",
    "print(\"job id: {}\".format(job_id))"
   ]
  },
  {
   "cell_type": "markdown",
   "metadata": {
    "id": "6fd80e7c-93f4-4673-b6f0-135102318c7c"
   },
   "source": [
    "Run a code packge job:"
   ]
  },
  {
   "cell_type": "code",
   "execution_count": 48,
   "metadata": {
    "id": "c332cb0a-82f9-4794-886e-eed74d3de836"
   },
   "outputs": [],
   "source": [
    "job_run = {\n",
    "    'configuration': {\n",
    "        'env_variables': [\n",
    "            'key1=value1', \n",
    "            'key2=value2'\n",
    "        ]\n",
    "    }\n",
    "}\n",
    "job_run_json = json.dumps(job_run)"
   ]
  },
  {
   "cell_type": "code",
   "execution_count": 49,
   "metadata": {
    "id": "e50c7202-3e68-4493-b788-3663c9392cda"
   },
   "outputs": [
    {
     "name": "stdout",
     "output_type": "stream",
     "text": [
      "run id: 42c620cb-834a-46d2-b262-1a15d77fc687\n"
     ]
    }
   ],
   "source": [
    "result = ! cpdctl job run create --space-id {space_id} --job-id {job_id} --job-run '{job_run_json}' --output json -j \"metadata.asset_id\" --raw-output\n",
    "run_id = result.s\n",
    "print(\"run id: {}\".format(run_id))"
   ]
  },
  {
   "cell_type": "markdown",
   "metadata": {
    "id": "1634a21d-babc-4963-8594-fa9f519760a7"
   },
   "source": [
    "You can see the output of each cell in your .ipynb file by listing job run logs:"
   ]
  },
  {
   "cell_type": "code",
   "execution_count": 50,
   "metadata": {
    "id": "123195be-2c05-49ba-a3f4-7932834cf96e",
    "scrolled": true
   },
   "outputs": [
    {
     "name": "stdout",
     "output_type": "stream",
     "text": [
      "...\n",
      "\n",
      "Cell 1:\n",
      "0\n",
      "1\n",
      "2\n",
      "3\n",
      "4\n",
      "\n",
      "\n"
     ]
    }
   ],
   "source": [
    "! cpdctl job run logs --job-id {job_id} --run-id {run_id} --space-id {space_id}"
   ]
  },
  {
   "cell_type": "markdown",
   "metadata": {
    "id": "2fd68fe4-cda7-41d8-972e-2a9ef10e6901"
   },
   "source": [
    "## 4. Demo 3: Promoting a notebook from a project to a space <a class=\"anchor\" id=\"part4\"></a>"
   ]
  },
  {
   "cell_type": "markdown",
   "metadata": {
    "id": "569d0f88-3a62-4361-81fc-3b74ad30eb4f"
   },
   "source": [
    "Before starting with this section, ensure that you have run the cells in [Section 1](#part1) and specified the ID of the space in which you will work."
   ]
  },
  {
   "cell_type": "markdown",
   "metadata": {
    "id": "40e665bc-3ff3-46cd-9cd1-c4b02271b9b9"
   },
   "source": [
    "Suppose you have a notebook in a project and would like to promote a specific version of this notebook to a space. This section shows you how to promote a notebook from a project to a space on a CPD cluster."
   ]
  },
  {
   "cell_type": "markdown",
   "metadata": {
    "id": "bf718e4b-fb1c-4122-9741-bfda098d4885"
   },
   "source": [
    "Choose a project from which you will promote your notebook:"
   ]
  },
  {
   "cell_type": "code",
   "execution_count": 13,
   "metadata": {
    "id": "c90a2d84-e838-4386-a5e4-ecfdd885bea0",
    "tags": []
   },
   "outputs": [
    {
     "name": "stdout",
     "output_type": "stream",
     "text": [
      "project id: f1be1dbd-fd40-4c0e-8c08-9d953b1d6750\n"
     ]
    }
   ],
   "source": [
    "result = ! cpdctl project list --output json -j \"(resources[].metadata.guid)[0]\" --raw-output\n",
    "project_id = result.s\n",
    "print(\"project id: {}\".format(project_id))\n",
    "\n",
    "# You can also specify your project id directly:\n",
    "# project_id = \"Your project ID\""
   ]
  },
  {
   "cell_type": "markdown",
   "metadata": {
    "id": "20e36376-e010-4350-9619-d61bc22c5a69"
   },
   "source": [
    "Specify the notebook you would like to promote:"
   ]
  },
  {
   "cell_type": "code",
   "execution_count": 14,
   "metadata": {
    "id": "b8e6bb27-a8fc-4c02-a750-4ac9e92515f4",
    "tags": []
   },
   "outputs": [
    {
     "name": "stdout",
     "output_type": "stream",
     "text": [
      "notebook id in project: 9240ebc4-19d0-49ea-82cc-4d7a58454468\n"
     ]
    }
   ],
   "source": [
    "result = ! cpdctl asset search --type-name notebook --query \"asset.asset_type:notebook\" --project-id {project_id} --output json -j \"(results[].metadata.asset_id)[0]\" --raw-output\n",
    "notebook_id_in_project = result.s\n",
    "print(\"notebook id in project: {}\".format(notebook_id_in_project))\n",
    "\n",
    "# You can also specify your notebook id in project directly:\n",
    "# notebook_id_in_project = \"Your notebook ID in project\""
   ]
  },
  {
   "cell_type": "markdown",
   "metadata": {
    "id": "8026ed48-553f-4046-9f10-f92b88e698cd"
   },
   "source": [
    "Create a version for your notebook if it has not any version and get its corresponding revision id:"
   ]
  },
  {
   "cell_type": "code",
   "execution_count": 15,
   "metadata": {
    "id": "02a8d829-6027-4ed7-965a-9e64866b6f78",
    "tags": []
   },
   "outputs": [
    {
     "name": "stdout",
     "output_type": "stream",
     "text": [
      "revision id: 1\n"
     ]
    }
   ],
   "source": [
    "result = ! cpdctl notebook version create --notebook-id {notebook_id_in_project} --output json -j \"entity.rev_id\" --raw-output\n",
    "revision_id = result.s\n",
    "print(\"revision id: {}\".format(revision_id))"
   ]
  },
  {
   "cell_type": "markdown",
   "metadata": {
    "id": "ba50497d-940e-4845-abed-59a548eb02ec"
   },
   "source": [
    "Or specify an existing revision of the notebook:"
   ]
  },
  {
   "cell_type": "code",
   "execution_count": 59,
   "metadata": {
    "id": "97f664da-6354-4b59-9d92-f15c43a5b0c3"
   },
   "outputs": [
    {
     "name": "stdout",
     "output_type": "stream",
     "text": [
      "revision id: 7\n"
     ]
    }
   ],
   "source": [
    "result = ! cpdctl notebook version list --notebook-id {notebook_id_in_project} --output json -j \"(resources[].entity.rev_id)[0]\" --raw-output\n",
    "revision_id = result.s\n",
    "print(\"revision id: {}\".format(revision_id))\n",
    "\n",
    "# You can also specify your revision id directly:\n",
    "# revision_id = \"Your revision ID\""
   ]
  },
  {
   "cell_type": "markdown",
   "metadata": {
    "id": "32554c3c-4697-44d2-b828-69d4c5206970"
   },
   "source": [
    "Promote the notebook to the space. The parameters `name` and `description` are optional. If they are not specified, the name and description of the original notebook in the project will be used."
   ]
  },
  {
   "cell_type": "code",
   "execution_count": 16,
   "metadata": {
    "id": "40b5f57a-8c1b-4144-848f-a2c0f8b15217",
    "tags": []
   },
   "outputs": [],
   "source": [
    "notebook_name = \"cpdctl_test_promote\"\n",
    "notebook_description = \"cpdctl test promote\"\n",
    "request_body = {\n",
    "    'space_id': space_id,\n",
    "    'metadata': {\n",
    "        'name': notebook_name,\n",
    "        'description': notebook_description\n",
    "    }\n",
    "}\n",
    "request_body = json.dumps(request_body)"
   ]
  },
  {
   "cell_type": "code",
   "execution_count": 17,
   "metadata": {
    "id": "abe468a8-6c89-4ae4-b0f1-4fd5456fbf29",
    "tags": []
   },
   "outputs": [
    {
     "name": "stdout",
     "output_type": "stream",
     "text": [
      "notebook id in space: [   \"3062c842-9fba-4ee7-95e8-2fe926d075f7\" ]\n"
     ]
    }
   ],
   "source": [
    "result = ! cpdctl asset promote --asset-id {notebook_id_in_project} --revision-id {revision_id} --project-id {project_id} --request-body '{request_body}'\n",
    "# verify that the notebook has been promoted into the space\n",
    "result = ! cpdctl asset search --space-id {space_id} --type-name notebook --query asset.name:{notebook_name} --output json -j \"(results[].metadata.asset_id)\" --raw-output\n",
    "notebook_id_in_space = result.s\n",
    "print(\"notebook id in space: {}\".format(notebook_id_in_space))"
   ]
  },
  {
   "cell_type": "markdown",
   "metadata": {
    "id": "8a9d94bc-9e2c-4ba2-b82c-57ae176d4c0a"
   },
   "source": [
    "Copyright © 2021 IBM. This notebook and its source code are released under the terms of the MIT License."
   ]
  }
 ],
 "metadata": {
  "kernelspec": {
   "display_name": "Python 3.8",
   "language": "python",
   "name": "python3"
  },
  "language_info": {
   "codemirror_mode": {
    "name": "ipython",
    "version": 3
   },
   "file_extension": ".py",
   "mimetype": "text/x-python",
   "name": "python",
   "nbconvert_exporter": "python",
   "pygments_lexer": "ipython3",
   "version": "3.8.11"
  }
 },
 "nbformat": 4,
 "nbformat_minor": 4
}
